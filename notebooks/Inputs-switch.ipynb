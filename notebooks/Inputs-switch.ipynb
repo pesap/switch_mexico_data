{
 "cells": [
  {
   "cell_type": "markdown",
   "metadata": {},
   "source": [
    "## Load data"
   ]
  },
  {
   "cell_type": "code",
   "execution_count": 1,
   "metadata": {},
   "outputs": [
    {
     "name": "stderr",
     "output_type": "stream",
     "text": [
      "/usr/local/lib/python3.6/site-packages/pandas/core/indexes/datetimes.py:831: PerformanceWarning: Non-vectorized DateOffset being applied to Series or DatetimeIndex\n",
      "  \"or DatetimeIndex\", PerformanceWarning)\n"
     ]
    }
   ],
   "source": [
    "import pandas as pd\n",
    "loads = pd.read_csv('../data/clean/load/HighLoads.csv')\n",
    "loads.head()\n",
    "loads['total'] = loads.sum(axis=1)\n",
    "loads.loc[loads['hour'] == 24, 'hour'] = 0\n",
    "loads.index = pd.to_datetime(loads[['year', 'month', 'day', 'hour']])\n",
    "last_year = loads.index.year[-1]\n",
    "loads.loc[loads['hour'] == 0].index += pd.DateOffset(day=1)\n",
    "#loads.loc[loads['year'] > last_year].index = loads.loc[loads['year'] > last_year].index.year - 1"
   ]
  },
  {
   "cell_type": "code",
   "execution_count": 2,
   "metadata": {},
   "outputs": [],
   "source": [
    "import os\n",
    "import sys\n",
    "\n",
    "def get_load_data(path='../data/clean/load', filename='HighLoads.csv', corrections=True, \n",
    "                  total=False, *args, **kwargs):\n",
    "    \"\"\" Load consumption data\n",
    "    \n",
    "    TODO:\n",
    "    This could be a csv or it could connect to a DB.\n",
    "    \"\"\"\n",
    "    df = pd.read_csv(os.path.join(path, filename))\n",
    "    # Calculate the sum of loads\n",
    "    df['total'] = df.sum(axis=1)\n",
    "    # Convert to datetime if does not exist\n",
    "    last_year = df['year'].iloc[-1:].values\n",
    "    if corrections:\n",
    "        try:\n",
    "            df.loc[df['hour'] == 24, 'hour'] = 0\n",
    "            df.loc[df['hour'] == 0, 'hour'] +=  1\n",
    "            # Fix below code to represent a year regression\n",
    "            df.loc[df['year'] > last_year] -= pd.DateOffset(day=365)\n",
    "        except ValueError as e:\n",
    "            # TODO Add error if data is wrong\n",
    "            pass\n",
    "    df.index = pd.to_datetime(df[['year', 'month', 'day', 'hour']])\n",
    "    \n",
    "    if total:\n",
    "        df = df[['total']].sort_index()\n",
    "    return df.sort_index()\n",
    "\n",
    "loads = get_load_data()"
   ]
  },
  {
   "cell_type": "markdown",
   "metadata": {},
   "source": [
    "## Timepoints creation\n",
    "\n",
    "This is the part where you can change the time resolution of switch. Here you can define the number of timepoints you will use for the analysis. One easy approach, to do it automatically is to groupb the data by maximum per month."
   ]
  },
  {
   "cell_type": "code",
   "execution_count": 3,
   "metadata": {},
   "outputs": [
    {
     "data": {
      "text/html": [
       "<div>\n",
       "<style>\n",
       "    .dataframe thead tr:only-child th {\n",
       "        text-align: right;\n",
       "    }\n",
       "\n",
       "    .dataframe thead th {\n",
       "        text-align: left;\n",
       "    }\n",
       "\n",
       "    .dataframe tbody tr th {\n",
       "        vertical-align: top;\n",
       "    }\n",
       "</style>\n",
       "<table border=\"1\" class=\"dataframe\">\n",
       "  <thead>\n",
       "    <tr style=\"text-align: right;\">\n",
       "      <th></th>\n",
       "      <th></th>\n",
       "      <th>year_peakTime</th>\n",
       "      <th>month_peakTime</th>\n",
       "      <th>day_peakTime</th>\n",
       "      <th>hour_peakTime</th>\n",
       "      <th>01-hermosillo_peakTime</th>\n",
       "      <th>02-cananea_peakTime</th>\n",
       "      <th>03-obregon_peakTime</th>\n",
       "      <th>04-los_mochis_peakTime</th>\n",
       "      <th>05-culiacan_peakTime</th>\n",
       "      <th>06-mazatlan_peakTime</th>\n",
       "      <th>...</th>\n",
       "      <th>45-cozumel_peakTime</th>\n",
       "      <th>46-tijuana_peakTime</th>\n",
       "      <th>47-ensenada_peakTime</th>\n",
       "      <th>48-mexicali_peakTime</th>\n",
       "      <th>49-san_luis_rio_colorado_peakTime</th>\n",
       "      <th>50-villa_constitucion_peakTime</th>\n",
       "      <th>51-la_paz_peakTime</th>\n",
       "      <th>52-los_cabos_peakTime</th>\n",
       "      <th>53-mulege_peakTime</th>\n",
       "      <th>total_peakTime</th>\n",
       "    </tr>\n",
       "  </thead>\n",
       "  <tbody>\n",
       "    <tr>\n",
       "      <th rowspan=\"5\" valign=\"top\">2016-12-31</th>\n",
       "      <th>2016-01-31</th>\n",
       "      <td>2016-01-01 01:00:00</td>\n",
       "      <td>2016-01-01 01:00:00</td>\n",
       "      <td>2016-01-31 01:00:00</td>\n",
       "      <td>2016-01-01 23:00:00</td>\n",
       "      <td>2016-01-21 21:00:00</td>\n",
       "      <td>2016-01-21 21:00:00</td>\n",
       "      <td>2016-01-21 21:00:00</td>\n",
       "      <td>2016-01-21 21:00:00</td>\n",
       "      <td>2016-01-21 21:00:00</td>\n",
       "      <td>2016-01-21 21:00:00</td>\n",
       "      <td>...</td>\n",
       "      <td>2016-01-13 19:00:00</td>\n",
       "      <td>2016-01-16 21:00:00</td>\n",
       "      <td>2016-01-16 21:00:00</td>\n",
       "      <td>2016-01-16 21:00:00</td>\n",
       "      <td>2016-01-16 21:00:00</td>\n",
       "      <td>2016-01-27 21:00:00</td>\n",
       "      <td>2016-01-27 21:00:00</td>\n",
       "      <td>2016-01-27 21:00:00</td>\n",
       "      <td>2016-01-16 21:00:00</td>\n",
       "      <td>2016-01-28 20:00:00</td>\n",
       "    </tr>\n",
       "    <tr>\n",
       "      <th>2016-02-29</th>\n",
       "      <td>2016-02-01 01:00:00</td>\n",
       "      <td>2016-02-01 01:00:00</td>\n",
       "      <td>2016-02-29 01:00:00</td>\n",
       "      <td>2016-02-01 23:00:00</td>\n",
       "      <td>2016-02-27 21:00:00</td>\n",
       "      <td>2016-02-27 21:00:00</td>\n",
       "      <td>2016-02-27 21:00:00</td>\n",
       "      <td>2016-02-27 21:00:00</td>\n",
       "      <td>2016-02-27 21:00:00</td>\n",
       "      <td>2016-02-27 21:00:00</td>\n",
       "      <td>...</td>\n",
       "      <td>2016-02-26 20:00:00</td>\n",
       "      <td>2016-02-20 21:00:00</td>\n",
       "      <td>2016-02-20 21:00:00</td>\n",
       "      <td>2016-02-20 21:00:00</td>\n",
       "      <td>2016-02-20 21:00:00</td>\n",
       "      <td>2016-02-17 21:00:00</td>\n",
       "      <td>2016-02-17 21:00:00</td>\n",
       "      <td>2016-02-17 21:00:00</td>\n",
       "      <td>2016-02-26 22:00:00</td>\n",
       "      <td>2016-02-25 20:00:00</td>\n",
       "    </tr>\n",
       "    <tr>\n",
       "      <th>2016-03-31</th>\n",
       "      <td>2016-03-01 01:00:00</td>\n",
       "      <td>2016-03-01 01:00:00</td>\n",
       "      <td>2016-03-31 01:00:00</td>\n",
       "      <td>2016-03-01 23:00:00</td>\n",
       "      <td>2016-03-31 17:00:00</td>\n",
       "      <td>2016-03-31 17:00:00</td>\n",
       "      <td>2016-03-31 17:00:00</td>\n",
       "      <td>2016-03-31 17:00:00</td>\n",
       "      <td>2016-03-31 17:00:00</td>\n",
       "      <td>2016-03-31 17:00:00</td>\n",
       "      <td>...</td>\n",
       "      <td>2016-03-28 20:00:00</td>\n",
       "      <td>2016-03-25 23:00:00</td>\n",
       "      <td>2016-03-25 23:00:00</td>\n",
       "      <td>2016-03-25 23:00:00</td>\n",
       "      <td>2016-03-25 23:00:00</td>\n",
       "      <td>2016-03-26 21:00:00</td>\n",
       "      <td>2016-03-26 21:00:00</td>\n",
       "      <td>2016-03-26 21:00:00</td>\n",
       "      <td>2016-03-07 21:00:00</td>\n",
       "      <td>2016-03-31 21:00:00</td>\n",
       "    </tr>\n",
       "    <tr>\n",
       "      <th>2016-04-30</th>\n",
       "      <td>2016-04-01 01:00:00</td>\n",
       "      <td>2016-04-01 01:00:00</td>\n",
       "      <td>2016-04-30 01:00:00</td>\n",
       "      <td>2016-04-01 23:00:00</td>\n",
       "      <td>2016-04-29 18:00:00</td>\n",
       "      <td>2016-04-29 18:00:00</td>\n",
       "      <td>2016-04-29 18:00:00</td>\n",
       "      <td>2016-04-29 18:00:00</td>\n",
       "      <td>2016-04-29 18:00:00</td>\n",
       "      <td>2016-04-29 18:00:00</td>\n",
       "      <td>...</td>\n",
       "      <td>2016-04-29 23:00:00</td>\n",
       "      <td>2016-04-21 17:00:00</td>\n",
       "      <td>2016-04-21 17:00:00</td>\n",
       "      <td>2016-04-21 17:00:00</td>\n",
       "      <td>2016-04-21 17:00:00</td>\n",
       "      <td>2016-04-25 22:00:00</td>\n",
       "      <td>2016-04-25 22:00:00</td>\n",
       "      <td>2016-04-25 22:00:00</td>\n",
       "      <td>2016-04-09 22:00:00</td>\n",
       "      <td>2016-04-29 17:00:00</td>\n",
       "    </tr>\n",
       "    <tr>\n",
       "      <th>2016-05-31</th>\n",
       "      <td>2016-05-01 01:00:00</td>\n",
       "      <td>2016-05-01 01:00:00</td>\n",
       "      <td>2016-05-31 01:00:00</td>\n",
       "      <td>2016-05-01 23:00:00</td>\n",
       "      <td>2016-05-31 01:00:00</td>\n",
       "      <td>2016-05-31 01:00:00</td>\n",
       "      <td>2016-05-31 01:00:00</td>\n",
       "      <td>2016-05-31 01:00:00</td>\n",
       "      <td>2016-05-31 01:00:00</td>\n",
       "      <td>2016-05-31 01:00:00</td>\n",
       "      <td>...</td>\n",
       "      <td>2016-05-28 23:00:00</td>\n",
       "      <td>2016-05-27 20:00:00</td>\n",
       "      <td>2016-05-27 20:00:00</td>\n",
       "      <td>2016-05-27 20:00:00</td>\n",
       "      <td>2016-05-27 20:00:00</td>\n",
       "      <td>2016-05-30 18:00:00</td>\n",
       "      <td>2016-05-30 18:00:00</td>\n",
       "      <td>2016-05-30 18:00:00</td>\n",
       "      <td>2016-05-16 15:00:00</td>\n",
       "      <td>2016-05-27 22:00:00</td>\n",
       "    </tr>\n",
       "  </tbody>\n",
       "</table>\n",
       "<p>5 rows × 58 columns</p>\n",
       "</div>"
      ],
      "text/plain": [
       "                            year_peakTime      month_peakTime  \\\n",
       "2016-12-31 2016-01-31 2016-01-01 01:00:00 2016-01-01 01:00:00   \n",
       "           2016-02-29 2016-02-01 01:00:00 2016-02-01 01:00:00   \n",
       "           2016-03-31 2016-03-01 01:00:00 2016-03-01 01:00:00   \n",
       "           2016-04-30 2016-04-01 01:00:00 2016-04-01 01:00:00   \n",
       "           2016-05-31 2016-05-01 01:00:00 2016-05-01 01:00:00   \n",
       "\n",
       "                             day_peakTime       hour_peakTime  \\\n",
       "2016-12-31 2016-01-31 2016-01-31 01:00:00 2016-01-01 23:00:00   \n",
       "           2016-02-29 2016-02-29 01:00:00 2016-02-01 23:00:00   \n",
       "           2016-03-31 2016-03-31 01:00:00 2016-03-01 23:00:00   \n",
       "           2016-04-30 2016-04-30 01:00:00 2016-04-01 23:00:00   \n",
       "           2016-05-31 2016-05-31 01:00:00 2016-05-01 23:00:00   \n",
       "\n",
       "                      01-hermosillo_peakTime 02-cananea_peakTime  \\\n",
       "2016-12-31 2016-01-31    2016-01-21 21:00:00 2016-01-21 21:00:00   \n",
       "           2016-02-29    2016-02-27 21:00:00 2016-02-27 21:00:00   \n",
       "           2016-03-31    2016-03-31 17:00:00 2016-03-31 17:00:00   \n",
       "           2016-04-30    2016-04-29 18:00:00 2016-04-29 18:00:00   \n",
       "           2016-05-31    2016-05-31 01:00:00 2016-05-31 01:00:00   \n",
       "\n",
       "                      03-obregon_peakTime 04-los_mochis_peakTime  \\\n",
       "2016-12-31 2016-01-31 2016-01-21 21:00:00    2016-01-21 21:00:00   \n",
       "           2016-02-29 2016-02-27 21:00:00    2016-02-27 21:00:00   \n",
       "           2016-03-31 2016-03-31 17:00:00    2016-03-31 17:00:00   \n",
       "           2016-04-30 2016-04-29 18:00:00    2016-04-29 18:00:00   \n",
       "           2016-05-31 2016-05-31 01:00:00    2016-05-31 01:00:00   \n",
       "\n",
       "                      05-culiacan_peakTime 06-mazatlan_peakTime  \\\n",
       "2016-12-31 2016-01-31  2016-01-21 21:00:00  2016-01-21 21:00:00   \n",
       "           2016-02-29  2016-02-27 21:00:00  2016-02-27 21:00:00   \n",
       "           2016-03-31  2016-03-31 17:00:00  2016-03-31 17:00:00   \n",
       "           2016-04-30  2016-04-29 18:00:00  2016-04-29 18:00:00   \n",
       "           2016-05-31  2016-05-31 01:00:00  2016-05-31 01:00:00   \n",
       "\n",
       "                              ...         45-cozumel_peakTime  \\\n",
       "2016-12-31 2016-01-31         ...         2016-01-13 19:00:00   \n",
       "           2016-02-29         ...         2016-02-26 20:00:00   \n",
       "           2016-03-31         ...         2016-03-28 20:00:00   \n",
       "           2016-04-30         ...         2016-04-29 23:00:00   \n",
       "           2016-05-31         ...         2016-05-28 23:00:00   \n",
       "\n",
       "                      46-tijuana_peakTime 47-ensenada_peakTime  \\\n",
       "2016-12-31 2016-01-31 2016-01-16 21:00:00  2016-01-16 21:00:00   \n",
       "           2016-02-29 2016-02-20 21:00:00  2016-02-20 21:00:00   \n",
       "           2016-03-31 2016-03-25 23:00:00  2016-03-25 23:00:00   \n",
       "           2016-04-30 2016-04-21 17:00:00  2016-04-21 17:00:00   \n",
       "           2016-05-31 2016-05-27 20:00:00  2016-05-27 20:00:00   \n",
       "\n",
       "                      48-mexicali_peakTime 49-san_luis_rio_colorado_peakTime  \\\n",
       "2016-12-31 2016-01-31  2016-01-16 21:00:00               2016-01-16 21:00:00   \n",
       "           2016-02-29  2016-02-20 21:00:00               2016-02-20 21:00:00   \n",
       "           2016-03-31  2016-03-25 23:00:00               2016-03-25 23:00:00   \n",
       "           2016-04-30  2016-04-21 17:00:00               2016-04-21 17:00:00   \n",
       "           2016-05-31  2016-05-27 20:00:00               2016-05-27 20:00:00   \n",
       "\n",
       "                      50-villa_constitucion_peakTime  51-la_paz_peakTime  \\\n",
       "2016-12-31 2016-01-31            2016-01-27 21:00:00 2016-01-27 21:00:00   \n",
       "           2016-02-29            2016-02-17 21:00:00 2016-02-17 21:00:00   \n",
       "           2016-03-31            2016-03-26 21:00:00 2016-03-26 21:00:00   \n",
       "           2016-04-30            2016-04-25 22:00:00 2016-04-25 22:00:00   \n",
       "           2016-05-31            2016-05-30 18:00:00 2016-05-30 18:00:00   \n",
       "\n",
       "                      52-los_cabos_peakTime  53-mulege_peakTime  \\\n",
       "2016-12-31 2016-01-31   2016-01-27 21:00:00 2016-01-16 21:00:00   \n",
       "           2016-02-29   2016-02-17 21:00:00 2016-02-26 22:00:00   \n",
       "           2016-03-31   2016-03-26 21:00:00 2016-03-07 21:00:00   \n",
       "           2016-04-30   2016-04-25 22:00:00 2016-04-09 22:00:00   \n",
       "           2016-05-31   2016-05-30 18:00:00 2016-05-16 15:00:00   \n",
       "\n",
       "                           total_peakTime  \n",
       "2016-12-31 2016-01-31 2016-01-28 20:00:00  \n",
       "           2016-02-29 2016-02-25 20:00:00  \n",
       "           2016-03-31 2016-03-31 21:00:00  \n",
       "           2016-04-30 2016-04-29 17:00:00  \n",
       "           2016-05-31 2016-05-27 22:00:00  \n",
       "\n",
       "[5 rows x 58 columns]"
      ]
     },
     "execution_count": 3,
     "metadata": {},
     "output_type": "execute_result"
    }
   ],
   "source": [
    "timepoints = loads.groupby([pd.TimeGrouper('A'), \n",
    "                                 pd.TimeGrouper('M')]).idxmax().add_suffix('_peakTime')\n",
    "timepoints.head()"
   ]
  },
  {
   "cell_type": "markdown",
   "metadata": {},
   "source": [
    "Using the `timepoints` dataframe we can get the number of timepoints that will be used and the date."
   ]
  },
  {
   "cell_type": "code",
   "execution_count": 4,
   "metadata": {},
   "outputs": [
    {
     "data": {
      "text/plain": [
       "12"
      ]
     },
     "execution_count": 4,
     "metadata": {},
     "output_type": "execute_result"
    }
   ],
   "source": [
    "# Calculate the number of timepoints\n",
    "ts_num_tps = timepoints.groupby(level=[0]).size().unique()[0]\n",
    "ts_num_tps"
   ]
  },
  {
   "cell_type": "code",
   "execution_count": 5,
   "metadata": {},
   "outputs": [],
   "source": [
    "dates = timepoints['total_peakTime']\n",
    "dates;"
   ]
  },
  {
   "cell_type": "markdown",
   "metadata": {},
   "source": [
    "For this example, we will recreate a full day considering the maximum of each month. We will obtain `n`number of points in front and behind the timestamp of the maximum load."
   ]
  },
  {
   "cell_type": "code",
   "execution_count": 6,
   "metadata": {},
   "outputs": [],
   "source": [
    "def get_representative_day(data, dates, number=4):\n",
    "    \"\"\" Construc a representative day based on a single timestamp\n",
    "    \n",
    "    Args:\n",
    "    data\n",
    "    dates\n",
    "    number\n",
    "    Todo: Write readme\n",
    "    \"\"\"\n",
    "    years = []\n",
    "    if isinstance(dates, pd.Series):\n",
    "        for day in dates:\n",
    "            i_date = day - pd.DateOffset(hours=12)\n",
    "            f_date = day + pd.DateOffset(hours=12)\n",
    "            mask = (data.index >= i_date) & (data.index <= f_date)\n",
    "            # reset_index to preserve timepoint reference\n",
    "            years.append(data.loc[mask].iloc[::number].reset_index())\n",
    "    else:\n",
    "        i_date = dates - pd.DateOffset(hours=12)\n",
    "        f_date = dates + pd.DateOffset(hours=12)\n",
    "        mask = (data.index >= i_date) & (data.index <= f_date)\n",
    "        years.append(data.loc[mask].iloc[::number].reset_index())\n",
    "    output_data = pd.concat(years)\n",
    "    output_data.rename(columns={'index':'date'}, inplace=True)\n",
    "    return output_data\n",
    "\n",
    "output_data = get_representative_day(loads, dates[:6], number=7) # Fix this horrendus bug\n",
    "output_data = output_data.loc[output_data.date.dt.year <= 2025]"
   ]
  },
  {
   "cell_type": "markdown",
   "metadata": {},
   "source": [
    "## Creating tab file\n",
    "\n",
    "### Timestamp\n",
    "\n",
    "The timestamp file needs to include the format:\n"
   ]
  },
  {
   "cell_type": "code",
   "execution_count": 7,
   "metadata": {},
   "outputs": [],
   "source": [
    "identifier = 'P'\n",
    "output_data['timestamp'] = output_data['date'].dt.strftime('%Y%m%d%H')\n",
    "output_data['TIMESERIES'] = output_data['date'].dt.strftime('%Y_%m{}'.format(identifier))\n",
    "output_data['daysinmonth'] = output_data['date'].dt.daysinmonth\n",
    "output_data;"
   ]
  },
  {
   "cell_type": "code",
   "execution_count": 8,
   "metadata": {},
   "outputs": [],
   "source": [
    "timepoints_tab = output_data[['timestamp', 'TIMESERIES', 'daysinmonth']]\n",
    "timepoints_tab.index.name = 'timepoint_id'\n",
    "tmp = timepoints_tab.reset_index(drop=True)\n",
    "tmp = tmp.rename(columns={'TIMESERIES':'timeseries'})\n",
    "tmp.index += 1  # To start on 1\n",
    "tmp.index.name = 'timepoint_id'\n",
    "tmp[['timestamp', 'timeseries']].to_csv('switch-inputs/timepoints.tab', sep='\\t')\n",
    "tmp;"
   ]
  },
  {
   "cell_type": "code",
   "execution_count": 9,
   "metadata": {},
   "outputs": [
    {
     "data": {
      "text/html": [
       "<div>\n",
       "<style>\n",
       "    .dataframe thead tr:only-child th {\n",
       "        text-align: right;\n",
       "    }\n",
       "\n",
       "    .dataframe thead th {\n",
       "        text-align: left;\n",
       "    }\n",
       "\n",
       "    .dataframe tbody tr th {\n",
       "        vertical-align: top;\n",
       "    }\n",
       "</style>\n",
       "<table border=\"1\" class=\"dataframe\">\n",
       "  <thead>\n",
       "    <tr style=\"text-align: right;\">\n",
       "      <th></th>\n",
       "      <th>period_start</th>\n",
       "      <th>period_end</th>\n",
       "    </tr>\n",
       "    <tr>\n",
       "      <th>INVESTMENT_PERIOD</th>\n",
       "      <th></th>\n",
       "      <th></th>\n",
       "    </tr>\n",
       "  </thead>\n",
       "  <tbody>\n",
       "    <tr>\n",
       "      <th>2016</th>\n",
       "      <td>2015</td>\n",
       "      <td>2025</td>\n",
       "    </tr>\n",
       "  </tbody>\n",
       "</table>\n",
       "</div>"
      ],
      "text/plain": [
       "                   period_start  period_end\n",
       "INVESTMENT_PERIOD                          \n",
       "2016                       2015        2025"
      ]
     },
     "execution_count": 9,
     "metadata": {},
     "output_type": "execute_result"
    }
   ],
   "source": [
    "from collections import OrderedDict\n",
    "# Todo implement multiple periods based on the data\n",
    "d = OrderedDict({'INVESTMENT_PERIOD': [2016], 'period_start': [2015], 'period_end':[2025]})\n",
    "periods_tab = pd.DataFrame(d)\n",
    "periods_tab= periods_tab.set_index('INVESTMENT_PERIOD')\n",
    "periods_tab.to_csv('switch-inputs/periods.tab', sep='\\t')\n",
    "periods_tab.head()"
   ]
  },
  {
   "cell_type": "code",
   "execution_count": 10,
   "metadata": {},
   "outputs": [
    {
     "data": {
      "text/html": [
       "<div>\n",
       "<style>\n",
       "    .dataframe thead tr:only-child th {\n",
       "        text-align: right;\n",
       "    }\n",
       "\n",
       "    .dataframe thead th {\n",
       "        text-align: left;\n",
       "    }\n",
       "\n",
       "    .dataframe tbody tr th {\n",
       "        vertical-align: top;\n",
       "    }\n",
       "</style>\n",
       "<table border=\"1\" class=\"dataframe\">\n",
       "  <thead>\n",
       "    <tr style=\"text-align: right;\">\n",
       "      <th></th>\n",
       "      <th>TIMESERIES</th>\n",
       "      <th>ts_period</th>\n",
       "      <th>ts_duration_of_tp</th>\n",
       "      <th>ts_num_tps</th>\n",
       "      <th>ts_scale_to_period</th>\n",
       "    </tr>\n",
       "    <tr>\n",
       "      <th>timepoint_id</th>\n",
       "      <th></th>\n",
       "      <th></th>\n",
       "      <th></th>\n",
       "      <th></th>\n",
       "      <th></th>\n",
       "    </tr>\n",
       "  </thead>\n",
       "  <tbody>\n",
       "    <tr>\n",
       "      <th>1</th>\n",
       "      <td>2016_01P</td>\n",
       "      <td>2016</td>\n",
       "      <td>6</td>\n",
       "      <td>4</td>\n",
       "      <td>608.333333</td>\n",
       "    </tr>\n",
       "    <tr>\n",
       "      <th>2</th>\n",
       "      <td>2016_02P</td>\n",
       "      <td>2016</td>\n",
       "      <td>6</td>\n",
       "      <td>4</td>\n",
       "      <td>608.333333</td>\n",
       "    </tr>\n",
       "    <tr>\n",
       "      <th>3</th>\n",
       "      <td>2016_03P</td>\n",
       "      <td>2016</td>\n",
       "      <td>6</td>\n",
       "      <td>3</td>\n",
       "      <td>811.111111</td>\n",
       "    </tr>\n",
       "    <tr>\n",
       "      <th>4</th>\n",
       "      <td>2016_04P</td>\n",
       "      <td>2016</td>\n",
       "      <td>6</td>\n",
       "      <td>5</td>\n",
       "      <td>486.666667</td>\n",
       "    </tr>\n",
       "    <tr>\n",
       "      <th>5</th>\n",
       "      <td>2016_05P</td>\n",
       "      <td>2016</td>\n",
       "      <td>6</td>\n",
       "      <td>4</td>\n",
       "      <td>608.333333</td>\n",
       "    </tr>\n",
       "    <tr>\n",
       "      <th>6</th>\n",
       "      <td>2016_06P</td>\n",
       "      <td>2016</td>\n",
       "      <td>6</td>\n",
       "      <td>4</td>\n",
       "      <td>608.333333</td>\n",
       "    </tr>\n",
       "  </tbody>\n",
       "</table>\n",
       "</div>"
      ],
      "text/plain": [
       "             TIMESERIES  ts_period  ts_duration_of_tp  ts_num_tps  \\\n",
       "timepoint_id                                                        \n",
       "1              2016_01P       2016                  6           4   \n",
       "2              2016_02P       2016                  6           4   \n",
       "3              2016_03P       2016                  6           3   \n",
       "4              2016_04P       2016                  6           5   \n",
       "5              2016_05P       2016                  6           4   \n",
       "6              2016_06P       2016                  6           4   \n",
       "\n",
       "              ts_scale_to_period  \n",
       "timepoint_id                      \n",
       "1                     608.333333  \n",
       "2                     608.333333  \n",
       "3                     811.111111  \n",
       "4                     486.666667  \n",
       "5                     608.333333  \n",
       "6                     608.333333  "
      ]
     },
     "execution_count": 10,
     "metadata": {},
     "output_type": "execute_result"
    }
   ],
   "source": [
    "timeseries_tab = timepoints_tab[['TIMESERIES', 'daysinmonth']].drop_duplicates('TIMESERIES').reset_index(drop=True)\n",
    "ts_duration_of_tp = 6#(24/len(output_data))\n",
    "timeseries_tab['ts_period'] = 2016 # Fix this to change investment period\n",
    "timeseries_tab['count'] = timeseries_tab.groupby('ts_period')['TIMESERIES'].transform(len)\n",
    "timeseries_tab['ts_duration_of_tp'] = ts_duration_of_tp\n",
    "timeseries_tab['ts_num_tps'] = output_data[['timestamp', 'TIMESERIES']].groupby('TIMESERIES').count().values\n",
    "timeseries_tab['ts_scale_to_period'] = 10*24*(365/(timeseries_tab['count']))/(timeseries_tab['ts_duration_of_tp']*timeseries_tab['ts_num_tps'])\n",
    "timeseries_tab.index +=1\n",
    "timeseries_tab.index.name = 'timepoint_id'\n",
    "del timeseries_tab['daysinmonth']\n",
    "del timeseries_tab['count']\n",
    "timeseries_tab.to_csv('switch-inputs/timeseries.tab', index=False, sep='\\t')\n",
    "timeseries_tab"
   ]
  },
  {
   "cell_type": "markdown",
   "metadata": {},
   "source": [
    "## Variable capacity factor  data"
   ]
  },
  {
   "cell_type": "code",
   "execution_count": 11,
   "metadata": {},
   "outputs": [
    {
     "data": {
      "text/html": [
       "<div>\n",
       "<style>\n",
       "    .dataframe thead tr:only-child th {\n",
       "        text-align: right;\n",
       "    }\n",
       "\n",
       "    .dataframe thead th {\n",
       "        text-align: left;\n",
       "    }\n",
       "\n",
       "    .dataframe tbody tr th {\n",
       "        vertical-align: top;\n",
       "    }\n",
       "</style>\n",
       "<table border=\"1\" class=\"dataframe\">\n",
       "  <thead>\n",
       "    <tr style=\"text-align: right;\">\n",
       "      <th></th>\n",
       "      <th>capacity_factor</th>\n",
       "      <th>GENERATION_PROJECT</th>\n",
       "    </tr>\n",
       "    <tr>\n",
       "      <th>datetime_mexico-utc-6</th>\n",
       "      <th></th>\n",
       "      <th></th>\n",
       "    </tr>\n",
       "  </thead>\n",
       "  <tbody>\n",
       "    <tr>\n",
       "      <th>2014-01-01 00:00:00</th>\n",
       "      <td>0.0</td>\n",
       "      <td>cs_pp_01</td>\n",
       "    </tr>\n",
       "    <tr>\n",
       "      <th>2014-01-01 01:00:00</th>\n",
       "      <td>0.0</td>\n",
       "      <td>cs_pp_01</td>\n",
       "    </tr>\n",
       "    <tr>\n",
       "      <th>2014-01-01 02:00:00</th>\n",
       "      <td>0.0</td>\n",
       "      <td>cs_pp_01</td>\n",
       "    </tr>\n",
       "    <tr>\n",
       "      <th>2014-01-01 03:00:00</th>\n",
       "      <td>0.0</td>\n",
       "      <td>cs_pp_01</td>\n",
       "    </tr>\n",
       "    <tr>\n",
       "      <th>2014-01-01 04:00:00</th>\n",
       "      <td>0.0</td>\n",
       "      <td>cs_pp_01</td>\n",
       "    </tr>\n",
       "  </tbody>\n",
       "</table>\n",
       "</div>"
      ],
      "text/plain": [
       "                       capacity_factor GENERATION_PROJECT\n",
       "datetime_mexico-utc-6                                    \n",
       "2014-01-01 00:00:00                0.0           cs_pp_01\n",
       "2014-01-01 01:00:00                0.0           cs_pp_01\n",
       "2014-01-01 02:00:00                0.0           cs_pp_01\n",
       "2014-01-01 03:00:00                0.0           cs_pp_01\n",
       "2014-01-01 04:00:00                0.0           cs_pp_01"
      ]
     },
     "execution_count": 11,
     "metadata": {},
     "output_type": "execute_result"
    }
   ],
   "source": [
    "import pandas as pd\n",
    "data_path = '../data/clean/SWITCH/'\n",
    "ren_cap_data = pd.read_csv(data_path + 'ren-all.csv', index_col=0, parse_dates=True)\n",
    "ren_cap_data.head()"
   ]
  },
  {
   "cell_type": "code",
   "execution_count": 12,
   "metadata": {},
   "outputs": [
    {
     "data": {
      "text/plain": [
       "287"
      ]
     },
     "execution_count": 12,
     "metadata": {},
     "output_type": "execute_result"
    }
   ],
   "source": [
    "renewable_plants = len(ren_cap_data.GENERATION_PROJECT.unique())\n",
    "renewable_plants"
   ]
  },
  {
   "cell_type": "code",
   "execution_count": 13,
   "metadata": {},
   "outputs": [
    {
     "data": {
      "text/plain": [
       "Int64Index([2014], dtype='int64', name='datetime_mexico-utc-6')"
      ]
     },
     "execution_count": 13,
     "metadata": {},
     "output_type": "execute_result"
    }
   ],
   "source": [
    "ren_cap_data_year = ren_cap_data.index.year.unique()\n",
    "ren_cap_data_year"
   ]
  },
  {
   "cell_type": "code",
   "execution_count": 14,
   "metadata": {},
   "outputs": [
    {
     "data": {
      "text/plain": [
       "{2016}"
      ]
     },
     "execution_count": 14,
     "metadata": {},
     "output_type": "execute_result"
    }
   ],
   "source": [
    "periods = set(output_data.date.dt.year)\n",
    "periods"
   ]
  },
  {
   "cell_type": "code",
   "execution_count": 15,
   "metadata": {},
   "outputs": [],
   "source": [
    "# Get the generation using the filter dates\n",
    "filter_dates = pd.DatetimeIndex(output_data['date'].reset_index(drop=True))\n",
    "df = pd.DataFrame([])\n",
    "ren_tmp = ren_cap_data.copy()\n",
    "ren_tmp.index = ren_tmp.index + pd.DateOffset(years=2)\n",
    "#df = df.append(ren_tmp)\n",
    "for year in periods:\n",
    "    df = df.append(ren_tmp)\n",
    "    ren_tmp.index = ren_tmp.index + pd.DateOffset(years=1)\n",
    "grouped = df.loc[filter_dates].dropna().reset_index(drop=True).groupby('GENERATION_PROJECT', as_index=False)\n",
    "tmp = []\n",
    "for name, group in grouped:\n",
    "    tmp.append(group.reset_index(drop=True))\n",
    "variable_cap = pd.concat(tmp)"
   ]
  },
  {
   "cell_type": "code",
   "execution_count": 16,
   "metadata": {},
   "outputs": [],
   "source": [
    "os.remove(\"switch-inputs/variable_capacity_factors.tab\")\n",
    "variable_tab = variable_cap.groupby('GENERATION_PROJECT')\n",
    "for keys in variable_tab.groups.keys():\n",
    "    data = variable_tab.get_group(keys).reset_index(drop=True)\n",
    "    data.index +=1\n",
    "    data.index.name = 'timepoint'\n",
    "    data.rename(columns={'capacity_factor': 'gen_max_capacity_factor'},\n",
    "               inplace=True)\n",
    "    data.reset_index()[['GENERATION_PROJECT', 'timepoint', 'gen_max_capacity_factor']].to_csv('switch-inputs/variable_capacity_factors.tab', \n",
    "                                                                  sep='\\t', index=False, \n",
    "                mode='a', header=(not os.path.exists('switch-inputs/variable_capacity_factors.tab')))"
   ]
  },
  {
   "cell_type": "code",
   "execution_count": 17,
   "metadata": {},
   "outputs": [],
   "source": [
    "loads_tmp = loads[loads.year <= 2025]\n",
    "list_tmp = []\n",
    "tmp = (loads_tmp.loc[output_data['date']].drop(['year', 'month','day','hour', 'total'], axis=1).reset_index()\n",
    "        .drop_duplicates('index').reset_index(drop=True))\n",
    "del tmp['index']\n",
    "tmp = tmp.unstack(0)\n",
    "for name, group in tmp.groupby(level=0):\n",
    "    list_tmp.append(group.reset_index())"
   ]
  },
  {
   "cell_type": "code",
   "execution_count": 18,
   "metadata": {},
   "outputs": [],
   "source": [
    "loads_tab = pd.concat(list_tmp)\n",
    "loads_tab;"
   ]
  },
  {
   "cell_type": "code",
   "execution_count": 19,
   "metadata": {},
   "outputs": [],
   "source": [
    "loads_tab = pd.concat(list_tmp)\n",
    "loads_tab.index += 1\n",
    "loads_tab = loads_tab.rename(columns={'level_0':'LOAD_ZONE', 0:'zone_demand_mw'})\n",
    "del loads_tab['level_1']\n",
    "loads_tab.index.name = 'TIMEPOINT'\n",
    "loads_tab = loads_tab.reset_index()[['LOAD_ZONE', 'TIMEPOINT', 'zone_demand_mw']]\n",
    "loads_tab.to_csv('switch-inputs/loads.tab', sep='\\t', index=False)\n",
    "loads_tab;"
   ]
  },
  {
   "cell_type": "code",
   "execution_count": null,
   "metadata": {},
   "outputs": [],
   "source": []
  }
 ],
 "metadata": {
  "kernelspec": {
   "display_name": "Python 2",
   "language": "python",
   "name": "python2"
  },
  "language_info": {
   "codemirror_mode": {
    "name": "ipython",
    "version": 3
   },
   "file_extension": ".py",
   "mimetype": "text/x-python",
   "name": "python",
   "nbconvert_exporter": "python",
   "pygments_lexer": "ipython3",
   "version": "3.6.3"
  }
 },
 "nbformat": 4,
 "nbformat_minor": 2
}
