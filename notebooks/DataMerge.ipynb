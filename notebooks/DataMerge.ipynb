{
 "cells": [
  {
   "cell_type": "code",
   "execution_count": 2,
   "metadata": {},
   "outputs": [],
   "source": [
    "import sys\n",
    "import os\n",
    "import glob\n",
    "import pandas as pd"
   ]
  },
  {
   "cell_type": "code",
   "execution_count": 3,
   "metadata": {},
   "outputs": [],
   "source": [
    "file_cluster = glob.glob('../data/clean/cp_hourly/clusters/*.csv')"
   ]
  },
  {
   "cell_type": "code",
   "execution_count": 4,
   "metadata": {},
   "outputs": [
    {
     "data": {
      "text/html": [
       "<div>\n",
       "<style scoped>\n",
       "    .dataframe tbody tr th:only-of-type {\n",
       "        vertical-align: middle;\n",
       "    }\n",
       "\n",
       "    .dataframe tbody tr th {\n",
       "        vertical-align: top;\n",
       "    }\n",
       "\n",
       "    .dataframe thead th {\n",
       "        text-align: right;\n",
       "    }\n",
       "</style>\n",
       "<table border=\"1\" class=\"dataframe\">\n",
       "  <thead>\n",
       "    <tr style=\"text-align: right;\">\n",
       "      <th></th>\n",
       "      <th>gen_tech</th>\n",
       "      <th>gen_load_zone</th>\n",
       "    </tr>\n",
       "    <tr>\n",
       "      <th>GENERATION_PROJECT</th>\n",
       "      <th></th>\n",
       "      <th></th>\n",
       "    </tr>\n",
       "  </thead>\n",
       "  <tbody>\n",
       "    <tr>\n",
       "      <th>carbon_ii</th>\n",
       "      <td>coal</td>\n",
       "      <td>12-rio_escondido</td>\n",
       "    </tr>\n",
       "    <tr>\n",
       "      <th>petacalco_(plutarco_elias_calles)</th>\n",
       "      <td>coal</td>\n",
       "      <td>29-lazaro_cardenas</td>\n",
       "    </tr>\n",
       "    <tr>\n",
       "      <th>rio_escondido_(jose_lopez_portillo)</th>\n",
       "      <td>coal</td>\n",
       "      <td>12-rio_escondido</td>\n",
       "    </tr>\n",
       "    <tr>\n",
       "      <th>clf_001</th>\n",
       "      <td>lf</td>\n",
       "      <td>12-rio_escondido</td>\n",
       "    </tr>\n",
       "    <tr>\n",
       "      <th>termoelectrica_del_golfo</th>\n",
       "      <td>lf</td>\n",
       "      <td>18-valles</td>\n",
       "    </tr>\n",
       "  </tbody>\n",
       "</table>\n",
       "</div>"
      ],
      "text/plain": [
       "                                    gen_tech       gen_load_zone\n",
       "GENERATION_PROJECT                                              \n",
       "carbon_ii                               coal    12-rio_escondido\n",
       "petacalco_(plutarco_elias_calles)       coal  29-lazaro_cardenas\n",
       "rio_escondido_(jose_lopez_portillo)     coal    12-rio_escondido\n",
       "clf_001                                   lf    12-rio_escondido\n",
       "termoelectrica_del_golfo                  lf           18-valles"
      ]
     },
     "execution_count": 4,
     "metadata": {},
     "output_type": "execute_result"
    }
   ],
   "source": [
    "generation_existing = pd.read_csv('../data/default/generation_projects_info.tab', sep='\\t', \n",
    "                         index_col=0, usecols=[0,1,2])\n",
    "generation_existing.head()"
   ]
  },
  {
   "cell_type": "code",
   "execution_count": 5,
   "metadata": {},
   "outputs": [
    {
     "data": {
      "text/html": [
       "<div>\n",
       "<style scoped>\n",
       "    .dataframe tbody tr th:only-of-type {\n",
       "        vertical-align: middle;\n",
       "    }\n",
       "\n",
       "    .dataframe tbody tr th {\n",
       "        vertical-align: top;\n",
       "    }\n",
       "\n",
       "    .dataframe thead th {\n",
       "        text-align: right;\n",
       "    }\n",
       "</style>\n",
       "<table border=\"1\" class=\"dataframe\">\n",
       "  <thead>\n",
       "    <tr style=\"text-align: right;\">\n",
       "      <th></th>\n",
       "      <th>gen_tech</th>\n",
       "      <th>gen_load_zone</th>\n",
       "    </tr>\n",
       "    <tr>\n",
       "      <th>GENERATION_PROJECT</th>\n",
       "      <th></th>\n",
       "      <th></th>\n",
       "    </tr>\n",
       "  </thead>\n",
       "  <tbody>\n",
       "    <tr>\n",
       "      <th>bioenergy_natural_gas_001</th>\n",
       "      <td>bioenergy_natural_gas</td>\n",
       "      <td>01-hermosillo</td>\n",
       "    </tr>\n",
       "    <tr>\n",
       "      <th>bioenergy_thermal_001</th>\n",
       "      <td>bioenergy_thermal</td>\n",
       "      <td>01-hermosillo</td>\n",
       "    </tr>\n",
       "    <tr>\n",
       "      <th>combinedcycle_natural_gas_001</th>\n",
       "      <td>combinedcycle_natural_gas</td>\n",
       "      <td>01-hermosillo</td>\n",
       "    </tr>\n",
       "    <tr>\n",
       "      <th>internalcombustion_natural_gas_001</th>\n",
       "      <td>internalcombustion_natural_gas</td>\n",
       "      <td>01-hermosillo</td>\n",
       "    </tr>\n",
       "    <tr>\n",
       "      <th>internalcombustion_diesel_001</th>\n",
       "      <td>internalcombustion_diesel</td>\n",
       "      <td>01-hermosillo</td>\n",
       "    </tr>\n",
       "  </tbody>\n",
       "</table>\n",
       "</div>"
      ],
      "text/plain": [
       "                                                          gen_tech  \\\n",
       "GENERATION_PROJECT                                                   \n",
       "bioenergy_natural_gas_001                    bioenergy_natural_gas   \n",
       "bioenergy_thermal_001                            bioenergy_thermal   \n",
       "combinedcycle_natural_gas_001            combinedcycle_natural_gas   \n",
       "internalcombustion_natural_gas_001  internalcombustion_natural_gas   \n",
       "internalcombustion_diesel_001            internalcombustion_diesel   \n",
       "\n",
       "                                    gen_load_zone  \n",
       "GENERATION_PROJECT                                 \n",
       "bioenergy_natural_gas_001           01-hermosillo  \n",
       "bioenergy_thermal_001               01-hermosillo  \n",
       "combinedcycle_natural_gas_001       01-hermosillo  \n",
       "internalcombustion_natural_gas_001  01-hermosillo  \n",
       "internalcombustion_diesel_001       01-hermosillo  "
      ]
     },
     "execution_count": 5,
     "metadata": {},
     "output_type": "execute_result"
    }
   ],
   "source": [
    "generation_proposed = pd.read_csv('../generation_test.tab', sep='\\t', \n",
    "                         index_col=0, usecols=[0,1,2])\n",
    "generation_proposed.head()"
   ]
  },
  {
   "cell_type": "code",
   "execution_count": 6,
   "metadata": {},
   "outputs": [],
   "source": [
    "generation = pd.concat([generation_existing, generation_proposed])\n",
    "assert len(generation) == (len(generation_proposed) + len(generation_existing))"
   ]
  },
  {
   "cell_type": "code",
   "execution_count": 7,
   "metadata": {},
   "outputs": [
    {
     "name": "stdout",
     "output_type": "stream",
     "text": [
      "245\n"
     ]
    }
   ],
   "source": [
    "generation_ren = generation.loc[generation['gen_tech'].isin(['wind', 'solarpv', 'solarpv_distributed'])]\n",
    "print (len(generation_ren))"
   ]
  },
  {
   "cell_type": "code",
   "execution_count": 8,
   "metadata": {},
   "outputs": [],
   "source": [
    "rens = []\n",
    "for index, row in generation_ren.iterrows():\n",
    "    lz = row['gen_load_zone'].split('-')[0]\n",
    "    gen = row['gen_tech'].split('_')[0]\n",
    "    proj = 'proj1'\n",
    "    lz = \"{:d}\".format(int(lz))\n",
    "    file = [s for s in file_cluster if lz in s and gen in s and proj in s][0]\n",
    "    tmp = pd.read_csv(file, index_col=0, parse_dates=True)\n",
    "    tmp.loc[:, 'project_name'] = index\n",
    "    if gen == 'solarpv' or gen == 'solarpv_distributed':\n",
    "        tmp.loc[:, 'capacity_factor'] = tmp.loc[:, 'cf']\n",
    "    else:\n",
    "        tmp.loc[:, 'capacity_factor'] = tmp.loc[:,'generation']/2000\n",
    "    tmp.loc[:, 'time'] = tmp.index.strftime('%m-%d %H:%M:%S')\n",
    "    tmp.loc[tmp.index.minute == 30, 'time'] = (tmp.index - pd.Timedelta(minutes=30) ).strftime('%m-%d %H:%M:%S')\n",
    "    tmp.index.names = ['datetime']\n",
    "    rens.append(tmp)\n",
    "\n",
    "rens = pd.concat(rens)"
   ]
  },
  {
   "cell_type": "code",
   "execution_count": 9,
   "metadata": {},
   "outputs": [],
   "source": [
    "assert len(generation_ren) == len(set(rens['project_name']))"
   ]
  },
  {
   "cell_type": "code",
   "execution_count": 10,
   "metadata": {},
   "outputs": [],
   "source": [
    "file_path = os.path.join('../', 'data/clean/SWITCH/')\n",
    "filename = 'ren-all5.csv'\n",
    "rens.to_csv(os.path.join(file_path, filename))"
   ]
  },
  {
   "cell_type": "code",
   "execution_count": null,
   "metadata": {},
   "outputs": [],
   "source": []
  }
 ],
 "metadata": {
  "kernelspec": {
   "display_name": "Python 3",
   "language": "python",
   "name": "python3"
  },
  "language_info": {
   "codemirror_mode": {
    "name": "ipython",
    "version": 3
   },
   "file_extension": ".py",
   "mimetype": "text/x-python",
   "name": "python",
   "nbconvert_exporter": "python",
   "pygments_lexer": "ipython3",
   "version": "3.6.5"
  }
 },
 "nbformat": 4,
 "nbformat_minor": 2
}
