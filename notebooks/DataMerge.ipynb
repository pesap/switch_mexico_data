{
 "cells": [
  {
   "cell_type": "code",
   "execution_count": null,
   "metadata": {},
   "outputs": [],
   "source": [
    "import sys\n",
    "import os\n",
    "import glob\n",
    "import pandas as pd"
   ]
  },
  {
   "cell_type": "code",
   "execution_count": null,
   "metadata": {},
   "outputs": [],
   "source": [
    "file_cluster = glob.glob('../data/clean/cp_hourly/clusters/*.csv')"
   ]
  },
  {
   "cell_type": "code",
   "execution_count": null,
   "metadata": {},
   "outputs": [],
   "source": [
    "generation = pd.read_csv('../generation_test.tab', sep='\\t', index_col=0)\n",
    "generation.head()"
   ]
  },
  {
   "cell_type": "code",
   "execution_count": null,
   "metadata": {},
   "outputs": [],
   "source": [
    "generation_wind = generation.loc[generation['gen_tech'].isin(['wind', 'solarpv', 'solarpv_distributed'])]\n",
    "generation_wind.head()"
   ]
  },
  {
   "cell_type": "code",
   "execution_count": null,
   "metadata": {},
   "outputs": [],
   "source": [
    "rens = []\n",
    "for index, row in generation_wind.iterrows():\n",
    "    lz = row['gen_load_zone'].split('-')[0]\n",
    "    gen = row['gen_tech'].split('_')[0]\n",
    "    proj = 'proj1'\n",
    "    lz = \"{:d}\".format(int(lz))\n",
    "    file = [s for s in file_cluster if lz in s and gen in s and proj in s][0]\n",
    "    tmp = pd.read_csv(file, index_col=0, parse_dates=True)\n",
    "    tmp.loc[:, 'project_name'] = index\n",
    "    if gen == 'solarpv':\n",
    "        tmp.loc[:, 'capacity_factor'] = tmp.loc[:, 'cf']\n",
    "    else:\n",
    "        tmp.loc[:, 'capacity_factor'] = tmp.loc[:,'generation']/2000\n",
    "    tmp.loc[:, 'time'] = tmp.index.strftime('%m-%d %H:%M:%S')\n",
    "    tmp.loc[tmp.index.minute == 30, 'time'] = (tmp.index - pd.Timedelta(minutes=30) ).strftime('%m-%d %H:%M:%S')\n",
    "    tmp.index.names = ['datetime']\n",
    "    rens.append(tmp)\n",
    "\n",
    "rens = pd.concat(rens)"
   ]
  },
  {
   "cell_type": "code",
   "execution_count": null,
   "metadata": {},
   "outputs": [],
   "source": [
    "parent_path = os.path.dirname(os.path.dirname('..'))\n",
    "file_path = os.path.join('../', 'data/clean/SWITCH/')\n",
    "filename = 'ren-all2.csv'\n",
    "ren_cap_data = pd.read_csv(os.path.join(file_path, filename), index_col=0,\n",
    "                           parse_dates=['datetime'])\n",
    "ren_cap_data['project_name'] = ren_cap_data['GENERATION_PROJECT']\n",
    "print (len(ren_cap_data.project_name.unique()))\n",
    "ren_cap_data.info()"
   ]
  },
  {
   "cell_type": "code",
   "execution_count": null,
   "metadata": {},
   "outputs": [],
   "source": [
    "ren_cap_data = ren_cap_data.loc[~ren_cap_data.project_name.isnull()]\n",
    "print (len(ren_cap_data.project_name.unique()))"
   ]
  },
  {
   "cell_type": "code",
   "execution_count": null,
   "metadata": {},
   "outputs": [],
   "source": [
    "merged = pd.concat([ren_cap_data, rens])"
   ]
  },
  {
   "cell_type": "code",
   "execution_count": null,
   "metadata": {},
   "outputs": [],
   "source": [
    "assert len(merged.project_name.unique()) == (len(rens.project_name.unique()) + len(ren_cap_data.GENERATION_PROJECT.unique()))"
   ]
  },
  {
   "cell_type": "code",
   "execution_count": null,
   "metadata": {},
   "outputs": [],
   "source": [
    "parent_path = os.path.dirname(os.path.dirname('..'))\n",
    "file_path = os.path.join('../', 'data/clean/SWITCH/')\n",
    "filename = 'ren-all5.csv'\n",
    "merged.to_csv(os.path.join(file_path, filename))"
   ]
  },
  {
   "cell_type": "code",
   "execution_count": null,
   "metadata": {},
   "outputs": [],
   "source": []
  }
 ],
 "metadata": {
  "kernelspec": {
   "display_name": "Python 3",
   "language": "python",
   "name": "python3"
  },
  "language_info": {
   "codemirror_mode": {
    "name": "ipython",
    "version": 3
   },
   "file_extension": ".py",
   "mimetype": "text/x-python",
   "name": "python",
   "nbconvert_exporter": "python",
   "pygments_lexer": "ipython3",
   "version": "3.6.4"
  }
 },
 "nbformat": 4,
 "nbformat_minor": 2
}
