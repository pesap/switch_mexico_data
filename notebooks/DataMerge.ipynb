{
 "cells": [
  {
   "cell_type": "code",
   "execution_count": null,
   "metadata": {},
   "outputs": [],
   "source": [
    "import sys\n",
    "import os\n",
    "import glob\n",
    "import pandas as pd"
   ]
  },
  {
   "cell_type": "code",
   "execution_count": null,
   "metadata": {},
   "outputs": [],
   "source": [
    "file_cluster = glob.glob('../data/clean/cp_hourly/clusters/*.csv')"
   ]
  },
  {
   "cell_type": "code",
   "execution_count": null,
   "metadata": {},
   "outputs": [],
   "source": [
    "generation_existing = pd.read_csv('../data/default/generation_projects_info.tab', sep='\\t', \n",
    "                         index_col=0, usecols=[0,1,2])\n",
    "generation_existing.head()"
   ]
  },
  {
   "cell_type": "code",
   "execution_count": null,
   "metadata": {},
   "outputs": [],
   "source": [
    "generation_proposed = pd.read_csv('../generation_test.tab', sep='\\t', \n",
    "                         index_col=0, usecols=[0,1,2])\n",
    "generation_proposed.head()"
   ]
  },
  {
   "cell_type": "code",
   "execution_count": null,
   "metadata": {},
   "outputs": [],
   "source": [
    "generation = pd.concat([generation_existing, generation_proposed])\n",
    "assert len(generation) == (len(generation_proposed) + len(generation_existing))"
   ]
  },
  {
   "cell_type": "code",
   "execution_count": null,
   "metadata": {},
   "outputs": [],
   "source": [
    "generation_ren = generation.loc[generation['gen_tech'].isin(['wind', 'solarpv', 'solarpv_distributed'])]\n",
    "print (len(generation_ren))"
   ]
  },
  {
   "cell_type": "code",
   "execution_count": null,
   "metadata": {},
   "outputs": [],
   "source": [
    "rens = []\n",
    "for index, row in generation_ren.iterrows():\n",
    "    lz = row['gen_load_zone'].split('-')[0]\n",
    "    gen = row['gen_tech'].split('_')[0]\n",
    "    proj = 'proj1'\n",
    "    lz = \"{:d}\".format(int(lz))\n",
    "    file = [s for s in file_cluster if lz in s and gen in s and proj in s][0]\n",
    "    tmp = pd.read_csv(file, index_col=0, parse_dates=True)\n",
    "    tmp.loc[:, 'project_name'] = index\n",
    "    if gen == 'solarpv' or gen == 'solarpv_distributed':\n",
    "        tmp.loc[:, 'capacity_factor'] = tmp.loc[:, 'cf']\n",
    "    else:\n",
    "        tmp.loc[:, 'capacity_factor'] = tmp.loc[:,'generation']/2000\n",
    "    tmp.loc[:, 'time'] = tmp.index.strftime('%m-%d %H:%M:%S')\n",
    "    tmp.loc[tmp.index.minute == 30, 'time'] = (tmp.index - pd.Timedelta(minutes=30) ).strftime('%m-%d %H:%M:%S')\n",
    "    tmp.index.names = ['datetime']\n",
    "    rens.append(tmp)\n",
    "\n",
    "rens = pd.concat(rens)"
   ]
  },
  {
   "cell_type": "code",
   "execution_count": null,
   "metadata": {},
   "outputs": [],
   "source": [
    "assert len(generation_ren) == len(set(rens['project_name']))"
   ]
  },
  {
   "cell_type": "code",
   "execution_count": null,
   "metadata": {},
   "outputs": [],
   "source": [
    "file_path = os.path.join('../', 'data/clean/SWITCH/')\n",
    "filename = 'ren-all5.csv'\n",
    "rens.to_csv(os.path.join(file_path, filename))"
   ]
  },
  {
   "cell_type": "code",
   "execution_count": null,
   "metadata": {},
   "outputs": [],
   "source": []
  }
 ],
 "metadata": {
  "kernelspec": {
   "display_name": "Python 3",
   "language": "python",
   "name": "python3"
  },
  "language_info": {
   "codemirror_mode": {
    "name": "ipython",
    "version": 3
   },
   "file_extension": ".py",
   "mimetype": "text/x-python",
   "name": "python",
   "nbconvert_exporter": "python",
   "pygments_lexer": "ipython3",
   "version": "3.6.4"
  }
 },
 "nbformat": 4,
 "nbformat_minor": 2
}
