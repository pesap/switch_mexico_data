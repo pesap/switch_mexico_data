{
 "cells": [
  {
   "cell_type": "code",
   "execution_count": 18,
   "metadata": {},
   "outputs": [],
   "source": [
    "import geopandas as gpd\n",
    "import matplotlib.pyplot as plt\n",
    "plt.style.use('seaborn-notebook')\n",
    "%matplotlib inline"
   ]
  },
  {
   "cell_type": "code",
   "execution_count": 65,
   "metadata": {},
   "outputs": [
    {
     "name": "stdout",
     "output_type": "stream",
     "text": [
      "313\n"
     ]
    }
   ],
   "source": [
    "name = 'E1_Rforestales'\n",
    "df = gpd.read_file('../data/interim/shapes/FBio_' + name + '.shp')\n",
    "df = df[df.geometry.notnull()].to_crs({'init': 'epsg:4326'}) \n",
    "print (len(df))"
   ]
  },
  {
   "cell_type": "code",
   "execution_count": 66,
   "metadata": {},
   "outputs": [
    {
     "data": {
      "text/plain": [
       "Index(['OBJECTID', 'EJERCICIO', 'ESTADO', 'TENENCIA', 'PREDIO', 'MUNICIPIO',\n",
       "       'SUP_AUT', 'VOL_AUT', 'UNIDAD', 'PRODUCTO', 'ESP', 'ID', 'PREDIO_1',\n",
       "       'TENENCIA_1', 'ENERGIA', 'CVE', 'ENERGIA_1', 'CLASIFICAC', 'INDUSTRIA',\n",
       "       'TIPO', 'FUENTE', 'PROCESO', 'SUP_AUT_1', 'VOL_AU_M3', 'BIOMASA_TA',\n",
       "       'POTEN_Tja', 'CAPINST_MW', 'FP', 'GENE_GWha', 'EMISION_Mt',\n",
       "       'CAPINST_kW', 'Shape_Leng', 'Shape_Area', 'geometry'],\n",
       "      dtype='object')"
      ]
     },
     "execution_count": 66,
     "metadata": {},
     "output_type": "execute_result"
    }
   ],
   "source": [
    "df.columns"
   ]
  },
  {
   "cell_type": "code",
   "execution_count": 61,
   "metadata": {},
   "outputs": [
    {
     "data": {
      "text/html": [
       "<div>\n",
       "<style scoped>\n",
       "    .dataframe tbody tr th:only-of-type {\n",
       "        vertical-align: middle;\n",
       "    }\n",
       "\n",
       "    .dataframe tbody tr th {\n",
       "        vertical-align: top;\n",
       "    }\n",
       "\n",
       "    .dataframe thead th {\n",
       "        text-align: right;\n",
       "    }\n",
       "</style>\n",
       "<table border=\"1\" class=\"dataframe\">\n",
       "  <thead>\n",
       "    <tr style=\"text-align: right;\">\n",
       "      <th></th>\n",
       "      <th>ID</th>\n",
       "      <th>ESTADO</th>\n",
       "      <th>MUNICIPIO</th>\n",
       "      <th>LONGITUD</th>\n",
       "      <th>LATITUD</th>\n",
       "      <th>ENERGIA</th>\n",
       "      <th>CLASIFICAC</th>\n",
       "      <th>INDUSTRIA</th>\n",
       "      <th>TIPO</th>\n",
       "      <th>PROCESO</th>\n",
       "      <th>FUENTE</th>\n",
       "      <th>POTEN_Tja</th>\n",
       "      <th>CAPINST_MW</th>\n",
       "      <th>FP</th>\n",
       "      <th>GENE_GWha</th>\n",
       "      <th>EMISION_Mt</th>\n",
       "      <th>CAPINST_kW</th>\n",
       "      <th>geometry</th>\n",
       "    </tr>\n",
       "    <tr>\n",
       "      <th>index_left</th>\n",
       "      <th></th>\n",
       "      <th></th>\n",
       "      <th></th>\n",
       "      <th></th>\n",
       "      <th></th>\n",
       "      <th></th>\n",
       "      <th></th>\n",
       "      <th></th>\n",
       "      <th></th>\n",
       "      <th></th>\n",
       "      <th></th>\n",
       "      <th></th>\n",
       "      <th></th>\n",
       "      <th></th>\n",
       "      <th></th>\n",
       "      <th></th>\n",
       "      <th></th>\n",
       "      <th></th>\n",
       "    </tr>\n",
       "  </thead>\n",
       "  <tbody>\n",
       "    <tr>\n",
       "      <th>0</th>\n",
       "      <td>25537.0</td>\n",
       "      <td>SONORA</td>\n",
       "      <td>HERMOSILLO</td>\n",
       "      <td>-110.954167</td>\n",
       "      <td>29.098889</td>\n",
       "      <td>BIOMASA</td>\n",
       "      <td></td>\n",
       "      <td>GRANJAS PORCINAS</td>\n",
       "      <td>ESTIÉRCOL PORCINO</td>\n",
       "      <td>DIGESTIÓN ANAEROBIA</td>\n",
       "      <td>SEMARNAT - FIRCO</td>\n",
       "      <td>428.914932</td>\n",
       "      <td>6.128967</td>\n",
       "      <td>0.8</td>\n",
       "      <td>42.981217</td>\n",
       "      <td>21.486310</td>\n",
       "      <td>6128.966635</td>\n",
       "      <td>POINT (-110.954167 29.098889)</td>\n",
       "    </tr>\n",
       "    <tr>\n",
       "      <th>1</th>\n",
       "      <td>21099.0</td>\n",
       "      <td>DURANGO</td>\n",
       "      <td>GÓMEZ PALACIO</td>\n",
       "      <td>-103.465833</td>\n",
       "      <td>25.678333</td>\n",
       "      <td>BIOMASA</td>\n",
       "      <td></td>\n",
       "      <td>ESTABLOS LECHEROS</td>\n",
       "      <td>ESTIÉRCOL BOVINO</td>\n",
       "      <td>DIGESTIÓN ANAEROBIA</td>\n",
       "      <td>SEMARNAT - FIRCO</td>\n",
       "      <td>283.131622</td>\n",
       "      <td>4.045801</td>\n",
       "      <td>0.8</td>\n",
       "      <td>28.372390</td>\n",
       "      <td>14.183358</td>\n",
       "      <td>4045.800544</td>\n",
       "      <td>POINT (-103.465833 25.678333)</td>\n",
       "    </tr>\n",
       "    <tr>\n",
       "      <th>2</th>\n",
       "      <td>25176.0</td>\n",
       "      <td>JALISCO</td>\n",
       "      <td>SAN JUAN DE LOS LAGOS</td>\n",
       "      <td>-102.332778</td>\n",
       "      <td>21.247778</td>\n",
       "      <td>BIOMASA</td>\n",
       "      <td></td>\n",
       "      <td>GRANJAS PORCINAS</td>\n",
       "      <td>ESTIÉRCOL PORCINO</td>\n",
       "      <td>DIGESTIÓN ANAEROBIA</td>\n",
       "      <td>SEMARNAT - FIRCO</td>\n",
       "      <td>255.860064</td>\n",
       "      <td>3.656104</td>\n",
       "      <td>0.8</td>\n",
       "      <td>25.639529</td>\n",
       "      <td>12.817201</td>\n",
       "      <td>3656.104459</td>\n",
       "      <td>POINT (-102.332778 21.247778)</td>\n",
       "    </tr>\n",
       "    <tr>\n",
       "      <th>3</th>\n",
       "      <td>25667.0</td>\n",
       "      <td>TAMAULIPAS</td>\n",
       "      <td>SAN FERNANDO</td>\n",
       "      <td>-98.174936</td>\n",
       "      <td>25.102492</td>\n",
       "      <td>BIOMASA</td>\n",
       "      <td></td>\n",
       "      <td>GRANJAS PORCINAS</td>\n",
       "      <td>ESTIÉRCOL PORCINO</td>\n",
       "      <td>DIGESTIÓN ANAEROBIA</td>\n",
       "      <td>SEMARNAT - FIRCO</td>\n",
       "      <td>246.250260</td>\n",
       "      <td>3.518785</td>\n",
       "      <td>0.8</td>\n",
       "      <td>24.676539</td>\n",
       "      <td>12.335802</td>\n",
       "      <td>3518.785458</td>\n",
       "      <td>POINT (-98.174936 25.10249200000001)</td>\n",
       "    </tr>\n",
       "    <tr>\n",
       "      <th>4</th>\n",
       "      <td>25459.0</td>\n",
       "      <td>SONORA</td>\n",
       "      <td>CAJEME</td>\n",
       "      <td>-109.935000</td>\n",
       "      <td>27.489167</td>\n",
       "      <td>BIOMASA</td>\n",
       "      <td></td>\n",
       "      <td>GRANJAS PORCINAS</td>\n",
       "      <td>ESTIÉRCOL PORCINO</td>\n",
       "      <td>DIGESTIÓN ANAEROBIA</td>\n",
       "      <td>SEMARNAT - FIRCO</td>\n",
       "      <td>128.573966</td>\n",
       "      <td>1.837254</td>\n",
       "      <td>0.8</td>\n",
       "      <td>12.884293</td>\n",
       "      <td>6.440858</td>\n",
       "      <td>1837.253703</td>\n",
       "      <td>POINT (-109.935 27.489167)</td>\n",
       "    </tr>\n",
       "  </tbody>\n",
       "</table>\n",
       "</div>"
      ],
      "text/plain": [
       "                 ID      ESTADO              MUNICIPIO    LONGITUD    LATITUD  \\\n",
       "index_left                                                                      \n",
       "0           25537.0      SONORA             HERMOSILLO -110.954167  29.098889   \n",
       "1           21099.0     DURANGO          GÓMEZ PALACIO -103.465833  25.678333   \n",
       "2           25176.0     JALISCO  SAN JUAN DE LOS LAGOS -102.332778  21.247778   \n",
       "3           25667.0  TAMAULIPAS           SAN FERNANDO  -98.174936  25.102492   \n",
       "4           25459.0      SONORA                 CAJEME -109.935000  27.489167   \n",
       "\n",
       "            ENERGIA CLASIFICAC          INDUSTRIA               TIPO  \\\n",
       "index_left                                                             \n",
       "0           BIOMASA              GRANJAS PORCINAS  ESTIÉRCOL PORCINO   \n",
       "1           BIOMASA             ESTABLOS LECHEROS   ESTIÉRCOL BOVINO   \n",
       "2           BIOMASA              GRANJAS PORCINAS  ESTIÉRCOL PORCINO   \n",
       "3           BIOMASA              GRANJAS PORCINAS  ESTIÉRCOL PORCINO   \n",
       "4           BIOMASA              GRANJAS PORCINAS  ESTIÉRCOL PORCINO   \n",
       "\n",
       "                        PROCESO            FUENTE   POTEN_Tja  CAPINST_MW  \\\n",
       "index_left                                                                  \n",
       "0           DIGESTIÓN ANAEROBIA  SEMARNAT - FIRCO  428.914932    6.128967   \n",
       "1           DIGESTIÓN ANAEROBIA  SEMARNAT - FIRCO  283.131622    4.045801   \n",
       "2           DIGESTIÓN ANAEROBIA  SEMARNAT - FIRCO  255.860064    3.656104   \n",
       "3           DIGESTIÓN ANAEROBIA  SEMARNAT - FIRCO  246.250260    3.518785   \n",
       "4           DIGESTIÓN ANAEROBIA  SEMARNAT - FIRCO  128.573966    1.837254   \n",
       "\n",
       "             FP  GENE_GWha  EMISION_Mt   CAPINST_kW  \\\n",
       "index_left                                            \n",
       "0           0.8  42.981217   21.486310  6128.966635   \n",
       "1           0.8  28.372390   14.183358  4045.800544   \n",
       "2           0.8  25.639529   12.817201  3656.104459   \n",
       "3           0.8  24.676539   12.335802  3518.785458   \n",
       "4           0.8  12.884293    6.440858  1837.253703   \n",
       "\n",
       "                                        geometry  \n",
       "index_left                                        \n",
       "0                  POINT (-110.954167 29.098889)  \n",
       "1                  POINT (-103.465833 25.678333)  \n",
       "2                  POINT (-102.332778 21.247778)  \n",
       "3           POINT (-98.174936 25.10249200000001)  \n",
       "4                     POINT (-109.935 27.489167)  "
      ]
     },
     "execution_count": 61,
     "metadata": {},
     "output_type": "execute_result"
    }
   ],
   "source": [
    "df.head()"
   ]
  },
  {
   "cell_type": "code",
   "execution_count": 50,
   "metadata": {},
   "outputs": [],
   "source": [
    "states = gpd.read_file('../data/interim/shapes/mex-states.shp')\n",
    "# Reproject the file\n",
    "states = states.to_crs({'init': 'epsg:4326'}) "
   ]
  },
  {
   "cell_type": "code",
   "execution_count": 51,
   "metadata": {},
   "outputs": [],
   "source": [
    "import json, os\n",
    "with open(os.path.join('../data/interim/', 'trans-regions.json'), 'r') as fp:\n",
    "    trans_regions = json.load(fp)"
   ]
  },
  {
   "cell_type": "code",
   "execution_count": 52,
   "metadata": {},
   "outputs": [],
   "source": [
    "loadzones = gpd.read_file('../data/interim/shapes/Mask_T.shp')\n",
    "loadzones = loadzones.to_crs({'init': 'epsg:4326'}) \n",
    "loadzones['trans-region'] = loadzones['ID'].astype(int).map('{0:02}'.format).map(trans_regions)"
   ]
  },
  {
   "cell_type": "code",
   "execution_count": 53,
   "metadata": {},
   "outputs": [],
   "source": [
    "assert loadzones.crs == df.crs"
   ]
  },
  {
   "cell_type": "code",
   "execution_count": 54,
   "metadata": {
    "scrolled": false
   },
   "outputs": [
    {
     "data": {
      "image/png": "[encoded data removed]",
      "text/plain": [
       "<matplotlib.figure.Figure at 0x1181d6b00>"
      ]
     },
     "metadata": {},
     "output_type": "display_data"
    }
   ],
   "source": [
    "# Base plot\n",
    "base = states.plot(color='white', edgecolor='black')\n",
    "loadzones.plot(ax=base, color='white', edgecolor='blue', label='Loadzones')\n",
    "df.plot(color='red', ax=base, label='Outside', markersize=5)\n",
    "if not 'forestales' in name:\n",
    "    join = gpd.sjoin(df, loadzones, op='within')\n",
    "    join.plot(ax=base, color='green', label='Inside', markersize=5)\n",
    "else:\n",
    "    join = gpd.overlay(loadzones, df, how='intersection')\n",
    "    join.plot(ax=base, color='green', legend=True)\n",
    "plt.title(name)\n",
    "plt.xlabel('lng')\n",
    "plt.ylabel('lat')\n",
    "plt.legend();\n",
    "#plt.savefig(name + '.png', dpi=300)"
   ]
  },
  {
   "cell_type": "code",
   "execution_count": 58,
   "metadata": {},
   "outputs": [],
   "source": [
    "# Create data\n",
    "os.makedirs('data', exist_ok=True)\n",
    "try: \n",
    "    columns = ['trans-region', 'X', 'Y', 'CLASIFICAC', 'TIPO', 'PROCESO', \n",
    "               'GENE_GWha', 'CAPINST_MW', 'FP',]\n",
    "    bioenergy = join[columns].copy();\n",
    "except KeyError:\n",
    "    columns = ['LATITUD', 'LONGITUD', 'trans-region', 'CLASIFICAC', 'TIPO', 'PROCESO', \n",
    "               'GENE_GWha', 'CAPINST_MW', 'FP']\n",
    "    bioenergy = join[columns].copy();\n",
    "bioenergy['CLASIFICAC'] = bioenergy.CLASIFICAC.map(str.lower).str.replace(' ', '_')\n",
    "bioenergy['TIPO'] = bioenergy.TIPO.map(str.lower).str.replace(' ', '_')\n",
    "bioenergy['PROCESO'] = bioenergy.PROCESO.map(str.lower).str.replace(' ', '_')\n",
    "if 'E3' in name:\n",
    "    scenario = 'high'\n",
    "else:\n",
    "    scenario = 'low'\n",
    "bioenergy.loc[:, 'scenario'] = scenario\n",
    "bioenergy = bioenergy.rename(columns={'X': 'lng','LATITUD':'lat', 'LONGITUD': 'lng', 'Y': 'lat', 'CLASIFICAC': 'source',\n",
    "                         'TIPO': 'category', 'FP': 'cf',\n",
    "                         'GENE_GWha': 'gen_GWha', 'CAPINST_MW':'cap_MW',\n",
    "                         'PROCESO': 'fuel_type'})"
   ]
  },
  {
   "cell_type": "code",
   "execution_count": 59,
   "metadata": {},
   "outputs": [],
   "source": [
    "bioenergy.to_csv('data/{}.csv'.format(name), index=False)"
   ]
  },
  {
   "cell_type": "code",
   "execution_count": null,
   "metadata": {},
   "outputs": [],
   "source": [
    "from itertools import zip_longest\n",
    "\n",
    "#join = gpd.sjoin(df, loadzones, op='within')\n",
    "load_zones_out = loadzones[~loadzones['trans-region']\n",
    "                          .isin(join['trans-region'].unique())]['trans-region']\n",
    "load_zones_in = join.groupby('trans-region')['geometry'].count().index.values\n",
    "#join = gpd.overlay(loadzones, df, how='intersection')\n",
    "with open(name + '.txt', 'w') as fpd:\n",
    "    fpd.write('Trans regions included:\\t{0}\\n'.format(len(join['trans-region'].unique())))\n",
    "    fpd.write('Trans regions not included: \\t{0}\\n'\n",
    "              .format(len(loadzones[~loadzones['trans-region']\n",
    "                                    .isin(join['trans-region'].unique())])))\n",
    "    fpd.write('Total points:\\t{0}\\n'.format(len(df)))\n",
    "    fpd.write('Points inside:\\t{0}\\n'.format(len(join)))\n",
    "    fpd.write('Points outside:\\t{0}\\n'.format(len(df) - len(join)))\n",
    "    fpd.write('Trans_in\\tTrans_out\\n')\n",
    "    for values in zip_longest(*[load_zones_in, load_zones_out]):\n",
    "        fpd.write('{0}\\t{1}\\n'.format(values[0],values[1]))"
   ]
  },
  {
   "cell_type": "code",
   "execution_count": 3,
   "metadata": {},
   "outputs": [
    {
     "ename": "NameError",
     "evalue": "name 'df' is not defined",
     "output_type": "error",
     "traceback": [
      "\u001b[0;31m---------------------------------------------------------------------------\u001b[0m",
      "\u001b[0;31mNameError\u001b[0m                                 Traceback (most recent call last)",
      "\u001b[0;32m<ipython-input-3-aaca2bf523ba>\u001b[0m in \u001b[0;36m<module>\u001b[0;34m()\u001b[0m\n\u001b[1;32m      1\u001b[0m \u001b[0mdf1\u001b[0m \u001b[0;34m=\u001b[0m \u001b[0mgpd\u001b[0m\u001b[0;34m.\u001b[0m\u001b[0mread_file\u001b[0m\u001b[0;34m(\u001b[0m\u001b[0;34m'../data/interim/shapes/FBio_E3_Rforestales.shp'\u001b[0m\u001b[0;34m)\u001b[0m\u001b[0;34m\u001b[0m\u001b[0m\n\u001b[0;32m----> 2\u001b[0;31m \u001b[0mdf1\u001b[0m \u001b[0;34m=\u001b[0m \u001b[0mdf\u001b[0m\u001b[0;34m[\u001b[0m\u001b[0mdf\u001b[0m\u001b[0;34m.\u001b[0m\u001b[0mgeometry\u001b[0m\u001b[0;34m.\u001b[0m\u001b[0mnotnull\u001b[0m\u001b[0;34m(\u001b[0m\u001b[0;34m)\u001b[0m\u001b[0;34m]\u001b[0m\u001b[0;34m.\u001b[0m\u001b[0mto_crs\u001b[0m\u001b[0;34m(\u001b[0m\u001b[0;34m{\u001b[0m\u001b[0;34m'init'\u001b[0m\u001b[0;34m:\u001b[0m \u001b[0;34m'epsg:4326'\u001b[0m\u001b[0;34m}\u001b[0m\u001b[0;34m)\u001b[0m\u001b[0;34m\u001b[0m\u001b[0m\n\u001b[0m\u001b[1;32m      3\u001b[0m \u001b[0mdf1\u001b[0m\u001b[0;34m[\u001b[0m\u001b[0;34m'type'\u001b[0m\u001b[0;34m]\u001b[0m \u001b[0;34m=\u001b[0m \u001b[0;34m'Rforestales'\u001b[0m\u001b[0;34m\u001b[0m\u001b[0m\n\u001b[1;32m      4\u001b[0m \u001b[0mdf2\u001b[0m \u001b[0;34m=\u001b[0m \u001b[0mgpd\u001b[0m\u001b[0;34m.\u001b[0m\u001b[0mread_file\u001b[0m\u001b[0;34m(\u001b[0m\u001b[0;34m'../data/interim/shapes/FBio_E3_Rurbanos.shp'\u001b[0m\u001b[0;34m)\u001b[0m\u001b[0;34m\u001b[0m\u001b[0m\n\u001b[1;32m      5\u001b[0m \u001b[0mdf2\u001b[0m \u001b[0;34m=\u001b[0m \u001b[0mdf2\u001b[0m\u001b[0;34m.\u001b[0m\u001b[0mto_crs\u001b[0m\u001b[0;34m(\u001b[0m\u001b[0;34m{\u001b[0m\u001b[0;34m'init'\u001b[0m\u001b[0;34m:\u001b[0m \u001b[0;34m'epsg:4326'\u001b[0m\u001b[0;34m}\u001b[0m\u001b[0;34m)\u001b[0m\u001b[0;34m\u001b[0m\u001b[0m\n",
      "\u001b[0;31mNameError\u001b[0m: name 'df' is not defined"
     ]
    }
   ],
   "source": [
    "df1 = gpd.read_file('../data/interim/shapes/FBio_E3_Rforestales.shp')\n",
    "df1 = df[df.geometry.notnull()].to_crs({'init': 'epsg:4326'}) \n",
    "df1['type'] = 'Rforestales'\n",
    "df2 = gpd.read_file('../data/interim/shapes/FBio_E3_Rurbanos.shp')\n",
    "df2 = df2.to_crs({'init': 'epsg:4326'}) \n",
    "df2['type'] = 'Rurbanos'\n",
    "df3 = gpd.read_file('../data/interim/shapes/FBio_E3_Rindustriales.shp')\n",
    "df3 = df3.to_crs({'init': 'epsg:4326'}) \n",
    "df3['type'] = 'Rindustriales'\n",
    "\n",
    "df4 = gpd.read_file('../data/interim/shapes/FBio_E3_Rpecuarios.shp')\n",
    "df4 = df4.to_crs({'init': 'epsg:4326'}) \n",
    "df4['type'] = 'Rpecuarios'"
   ]
  },
  {
   "cell_type": "code",
   "execution_count": null,
   "metadata": {},
   "outputs": [],
   "source": [
    "import pandas as pd"
   ]
  },
  {
   "cell_type": "code",
   "execution_count": null,
   "metadata": {},
   "outputs": [],
   "source": [
    "geo_data = gpd.GeoDataFrame(pd.concat([df1, df2, df3, df4], ignore_index=True))"
   ]
  },
  {
   "cell_type": "code",
   "execution_count": null,
   "metadata": {},
   "outputs": [],
   "source": [
    "no_1 = gpd.sjoin(geo_data, loadzones, op='within')"
   ]
  },
  {
   "cell_type": "code",
   "execution_count": null,
   "metadata": {},
   "outputs": [],
   "source": [
    "grouped = no_1.groupby(['trans-region', 'type'])['ID_right'].count()"
   ]
  },
  {
   "cell_type": "code",
   "execution_count": null,
   "metadata": {},
   "outputs": [],
   "source": [
    "grouped.unstack(1).dropna()"
   ]
  },
  {
   "cell_type": "code",
   "execution_count": null,
   "metadata": {},
   "outputs": [],
   "source": [
    "gpd.sjoin(df3, no_1, op='within')"
   ]
  },
  {
   "cell_type": "code",
   "execution_count": null,
   "metadata": {},
   "outputs": [],
   "source": [
    "no_1"
   ]
  },
  {
   "cell_type": "code",
   "execution_count": null,
   "metadata": {},
   "outputs": [],
   "source": []
  }
 ],
 "metadata": {
  "kernelspec": {
   "display_name": "Python 3",
   "language": "python",
   "name": "python3"
  },
  "language_info": {
   "codemirror_mode": {
    "name": "ipython",
    "version": 3
   },
   "file_extension": ".py",
   "mimetype": "text/x-python",
   "name": "python",
   "nbconvert_exporter": "python",
   "pygments_lexer": "ipython3",
   "version": "3.6.4"
  }
 },
 "nbformat": 4,
 "nbformat_minor": 2
}
