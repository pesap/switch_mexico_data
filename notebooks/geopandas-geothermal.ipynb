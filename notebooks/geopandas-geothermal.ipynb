{
 "cells": [
  {
   "cell_type": "code",
   "execution_count": 1,
   "metadata": {},
   "outputs": [],
   "source": [
    "import geopandas as gpd\n",
    "import matplotlib.pyplot as plt\n",
    "plt.style.use('seaborn-notebook')\n",
    "%matplotlib inline"
   ]
  },
  {
   "cell_type": "code",
   "execution_count": 23,
   "metadata": {},
   "outputs": [
    {
     "name": "stdout",
     "output_type": "stream",
     "text": [
      "96\n"
     ]
    }
   ],
   "source": [
    "name = 'Esc2'\n",
    "df = gpd.read_file('../data/interim/shapes/AP_Geotermica_' + name + '.shp')\n",
    "df = df[df.geometry.notnull()].to_crs({'init': 'epsg:4326'}) \n",
    "print (len(df))"
   ]
  },
  {
   "cell_type": "code",
   "execution_count": 24,
   "metadata": {},
   "outputs": [
    {
     "data": {
      "text/html": [
       "<div>\n",
       "<style scoped>\n",
       "    .dataframe tbody tr th:only-of-type {\n",
       "        vertical-align: middle;\n",
       "    }\n",
       "\n",
       "    .dataframe tbody tr th {\n",
       "        vertical-align: top;\n",
       "    }\n",
       "\n",
       "    .dataframe thead th {\n",
       "        text-align: right;\n",
       "    }\n",
       "</style>\n",
       "<table border=\"1\" class=\"dataframe\">\n",
       "  <thead>\n",
       "    <tr style=\"text-align: right;\">\n",
       "      <th></th>\n",
       "      <th>ID_N</th>\n",
       "      <th>CVE</th>\n",
       "      <th>NOMBRE</th>\n",
       "      <th>LONGITUD</th>\n",
       "      <th>LATITUD</th>\n",
       "      <th>TEMP</th>\n",
       "      <th>ENER_MIN</th>\n",
       "      <th>CAP_MIN</th>\n",
       "      <th>GEN_MIN</th>\n",
       "      <th>EMICO2_MIN</th>\n",
       "      <th>...</th>\n",
       "      <th>GEN_MED</th>\n",
       "      <th>EMICO2_MED</th>\n",
       "      <th>ENER_MAX</th>\n",
       "      <th>CAP_MAX</th>\n",
       "      <th>GEN_MAX</th>\n",
       "      <th>EMICO2_MAX</th>\n",
       "      <th>NOM_MUN</th>\n",
       "      <th>NOM_ENT</th>\n",
       "      <th>OC</th>\n",
       "      <th>geometry</th>\n",
       "    </tr>\n",
       "  </thead>\n",
       "  <tbody>\n",
       "    <tr>\n",
       "      <th>0</th>\n",
       "      <td>1.0</td>\n",
       "      <td>1.0</td>\n",
       "      <td>Chiapas</td>\n",
       "      <td>-92.16</td>\n",
       "      <td>15.00</td>\n",
       "      <td>194.0</td>\n",
       "      <td>1.536950e+11</td>\n",
       "      <td>4.058584</td>\n",
       "      <td>32.019792</td>\n",
       "      <td>14.536985</td>\n",
       "      <td>...</td>\n",
       "      <td>64.039583</td>\n",
       "      <td>29.073971</td>\n",
       "      <td>4.610850e+11</td>\n",
       "      <td>12.175752</td>\n",
       "      <td>96.059375</td>\n",
       "      <td>43.610956</td>\n",
       "      <td>Cacahoatán</td>\n",
       "      <td>Chiapas</td>\n",
       "      <td>Cacahoatán (C)</td>\n",
       "      <td>POINT (-92.16 15)</td>\n",
       "    </tr>\n",
       "    <tr>\n",
       "      <th>1</th>\n",
       "      <td>2.0</td>\n",
       "      <td>2.0</td>\n",
       "      <td>Chiapas</td>\n",
       "      <td>-92.08</td>\n",
       "      <td>15.06</td>\n",
       "      <td>159.0</td>\n",
       "      <td>6.252000e+10</td>\n",
       "      <td>1.650949</td>\n",
       "      <td>13.025000</td>\n",
       "      <td>5.913350</td>\n",
       "      <td>...</td>\n",
       "      <td>26.050000</td>\n",
       "      <td>11.826700</td>\n",
       "      <td>1.875600e+11</td>\n",
       "      <td>4.952848</td>\n",
       "      <td>39.075000</td>\n",
       "      <td>17.740050</td>\n",
       "      <td>Unión Juárez</td>\n",
       "      <td>Chiapas</td>\n",
       "      <td>Unión Juárez (C)</td>\n",
       "      <td>POINT (-92.08 15.06)</td>\n",
       "    </tr>\n",
       "    <tr>\n",
       "      <th>2</th>\n",
       "      <td>3.0</td>\n",
       "      <td>3.0</td>\n",
       "      <td>Chiapas</td>\n",
       "      <td>-92.45</td>\n",
       "      <td>15.16</td>\n",
       "      <td>153.0</td>\n",
       "      <td>4.689000e+10</td>\n",
       "      <td>1.238212</td>\n",
       "      <td>9.768750</td>\n",
       "      <td>4.435013</td>\n",
       "      <td>...</td>\n",
       "      <td>19.537500</td>\n",
       "      <td>8.870025</td>\n",
       "      <td>1.406700e+11</td>\n",
       "      <td>3.714636</td>\n",
       "      <td>29.306250</td>\n",
       "      <td>13.305037</td>\n",
       "      <td>Huixtla</td>\n",
       "      <td>Chiapas</td>\n",
       "      <td>El Retiro (C)</td>\n",
       "      <td>POINT (-92.45 15.16)</td>\n",
       "    </tr>\n",
       "    <tr>\n",
       "      <th>3</th>\n",
       "      <td>4.0</td>\n",
       "      <td>4.0</td>\n",
       "      <td>Chiapas</td>\n",
       "      <td>-92.20</td>\n",
       "      <td>15.20</td>\n",
       "      <td>194.0</td>\n",
       "      <td>1.536950e+11</td>\n",
       "      <td>4.058584</td>\n",
       "      <td>32.019792</td>\n",
       "      <td>14.536985</td>\n",
       "      <td>...</td>\n",
       "      <td>64.039583</td>\n",
       "      <td>29.073971</td>\n",
       "      <td>4.610850e+11</td>\n",
       "      <td>12.175752</td>\n",
       "      <td>96.059375</td>\n",
       "      <td>43.610956</td>\n",
       "      <td>Tapachula</td>\n",
       "      <td>Chiapas</td>\n",
       "      <td>Toquian (C)</td>\n",
       "      <td>POINT (-92.2 15.2)</td>\n",
       "    </tr>\n",
       "    <tr>\n",
       "      <th>4</th>\n",
       "      <td>5.0</td>\n",
       "      <td>5.0</td>\n",
       "      <td>Chiapas</td>\n",
       "      <td>-92.33</td>\n",
       "      <td>15.31</td>\n",
       "      <td>194.0</td>\n",
       "      <td>1.536950e+11</td>\n",
       "      <td>4.058584</td>\n",
       "      <td>32.019792</td>\n",
       "      <td>14.536985</td>\n",
       "      <td>...</td>\n",
       "      <td>64.039583</td>\n",
       "      <td>29.073971</td>\n",
       "      <td>4.610850e+11</td>\n",
       "      <td>12.175752</td>\n",
       "      <td>96.059375</td>\n",
       "      <td>43.610956</td>\n",
       "      <td>Motozintla</td>\n",
       "      <td>Chiapas</td>\n",
       "      <td>Tolimán (C)</td>\n",
       "      <td>POINT (-92.33 15.31)</td>\n",
       "    </tr>\n",
       "  </tbody>\n",
       "</table>\n",
       "<p>5 rows × 22 columns</p>\n",
       "</div>"
      ],
      "text/plain": [
       "   ID_N  CVE   NOMBRE  LONGITUD  LATITUD   TEMP      ENER_MIN   CAP_MIN  \\\n",
       "0   1.0  1.0  Chiapas    -92.16    15.00  194.0  1.536950e+11  4.058584   \n",
       "1   2.0  2.0  Chiapas    -92.08    15.06  159.0  6.252000e+10  1.650949   \n",
       "2   3.0  3.0  Chiapas    -92.45    15.16  153.0  4.689000e+10  1.238212   \n",
       "3   4.0  4.0  Chiapas    -92.20    15.20  194.0  1.536950e+11  4.058584   \n",
       "4   5.0  5.0  Chiapas    -92.33    15.31  194.0  1.536950e+11  4.058584   \n",
       "\n",
       "     GEN_MIN  EMICO2_MIN          ...             GEN_MED  EMICO2_MED  \\\n",
       "0  32.019792   14.536985          ...           64.039583   29.073971   \n",
       "1  13.025000    5.913350          ...           26.050000   11.826700   \n",
       "2   9.768750    4.435013          ...           19.537500    8.870025   \n",
       "3  32.019792   14.536985          ...           64.039583   29.073971   \n",
       "4  32.019792   14.536985          ...           64.039583   29.073971   \n",
       "\n",
       "       ENER_MAX    CAP_MAX    GEN_MAX  EMICO2_MAX       NOM_MUN  NOM_ENT  \\\n",
       "0  4.610850e+11  12.175752  96.059375   43.610956    Cacahoatán  Chiapas   \n",
       "1  1.875600e+11   4.952848  39.075000   17.740050  Unión Juárez  Chiapas   \n",
       "2  1.406700e+11   3.714636  29.306250   13.305037       Huixtla  Chiapas   \n",
       "3  4.610850e+11  12.175752  96.059375   43.610956     Tapachula  Chiapas   \n",
       "4  4.610850e+11  12.175752  96.059375   43.610956    Motozintla  Chiapas   \n",
       "\n",
       "                 OC              geometry  \n",
       "0    Cacahoatán (C)     POINT (-92.16 15)  \n",
       "1  Unión Juárez (C)  POINT (-92.08 15.06)  \n",
       "2     El Retiro (C)  POINT (-92.45 15.16)  \n",
       "3       Toquian (C)    POINT (-92.2 15.2)  \n",
       "4       Tolimán (C)  POINT (-92.33 15.31)  \n",
       "\n",
       "[5 rows x 22 columns]"
      ]
     },
     "execution_count": 24,
     "metadata": {},
     "output_type": "execute_result"
    }
   ],
   "source": [
    "df.head()"
   ]
  },
  {
   "cell_type": "code",
   "execution_count": 25,
   "metadata": {},
   "outputs": [
    {
     "data": {
      "text/plain": [
       "NOM_ENT\n",
       "Aguascalientes                      65.831606\n",
       "Baja California                     88.795855\n",
       "Chiapas                             60.764110\n",
       "Chihuahua                            4.952848\n",
       "Durango                             10.719706\n",
       "Guanajuato                          55.673681\n",
       "Hidalgo                             36.733623\n",
       "Jalisco                             18.171908\n",
       "Michoacán de Ocampo                 11.350277\n",
       "Morelos                              5.296796\n",
       "Nayarit                            104.732101\n",
       "Puebla                              48.966700\n",
       "Querétaro                           45.343784\n",
       "Sonora                              23.078896\n",
       "Tlaxcala                            10.868750\n",
       "Veracruz de Ignacio de la Llave      6.810166\n",
       "Name: CAP_MAX, dtype: float64"
      ]
     },
     "execution_count": 25,
     "metadata": {},
     "output_type": "execute_result"
    }
   ],
   "source": [
    "df.groupby('NOM_ENT')['CAP_MAX'].sum()"
   ]
  },
  {
   "cell_type": "code",
   "execution_count": 26,
   "metadata": {},
   "outputs": [],
   "source": [
    "states = gpd.read_file('../data/interim/shapes/mex-states.shp')\n",
    "# Reproject the file\n",
    "states = states.to_crs({'init': 'epsg:4326'}) "
   ]
  },
  {
   "cell_type": "code",
   "execution_count": 27,
   "metadata": {},
   "outputs": [],
   "source": [
    "import json, os\n",
    "with open(os.path.join('../data/interim/', 'trans-regions.json'), 'r') as fp:\n",
    "    trans_regions = json.load(fp)"
   ]
  },
  {
   "cell_type": "code",
   "execution_count": 28,
   "metadata": {},
   "outputs": [],
   "source": [
    "loadzones = gpd.read_file('../data/interim/shapes/Mask_T.shp')\n",
    "loadzones = loadzones.to_crs({'init': 'epsg:4326'}) \n",
    "loadzones['trans-region'] = loadzones['ID'].astype(int).map('{0:02}'.format).map(trans_regions)"
   ]
  },
  {
   "cell_type": "code",
   "execution_count": 21,
   "metadata": {},
   "outputs": [
    {
     "data": {
      "text/plain": [
       "{'init': 'epsg:4326'}"
      ]
     },
     "execution_count": 21,
     "metadata": {},
     "output_type": "execute_result"
    }
   ],
   "source": [
    "loadzones.crs"
   ]
  },
  {
   "cell_type": "code",
   "execution_count": 13,
   "metadata": {},
   "outputs": [],
   "source": [
    "#loadzones.to_file(\"test.geojson\", driver='GeoJSON')"
   ]
  },
  {
   "cell_type": "code",
   "execution_count": 29,
   "metadata": {
    "scrolled": false
   },
   "outputs": [
    {
     "data": {
      "image/png": "[encoded data removed]",
      "text/plain": [
       "<Figure size 432x288 with 1 Axes>"
      ]
     },
     "metadata": {},
     "output_type": "display_data"
    }
   ],
   "source": [
    "base = states.plot(color='white', edgecolor='black')\n",
    "join = gpd.sjoin(df, loadzones, op='within')\n",
    "#join = gpd.overlay(loadzones, df, how='intersection')\n",
    "loadzones.plot(ax=base, color='white', edgecolor='blue', label='Loadzones')\n",
    "df.plot(color='red', ax=base, label='Outside', markersize=5)\n",
    "#join.plot(ax=base, color='green', legend=True)\n",
    "join.plot(ax=base, color='green', label='Inside', markersize=5)\n",
    "plt.title(name)\n",
    "plt.xlabel('lng')\n",
    "plt.ylabel('lat')\n",
    "plt.legend();\n",
    "#plt.savefig(name + '.png', dpi=300)"
   ]
  },
  {
   "cell_type": "code",
   "execution_count": null,
   "metadata": {},
   "outputs": [],
   "source": [
    "from itertools import zip_longest\n",
    "\n",
    "#join = gpd.sjoin(df, loadzones, op='within')\n",
    "load_zones_out = loadzones[~loadzones['trans-region']\n",
    "                          .isin(join['trans-region'].unique())]['trans-region']\n",
    "load_zones_in = join.groupby('trans-region')['geometry'].count().index.values\n",
    "#join = gpd.overlay(loadzones, df, how='intersection')\n",
    "with open(name + '.txt', 'w') as fpd:\n",
    "    fpd.write('Trans regions included:\\t{0}\\n'.format(len(join['trans-region'].unique())))\n",
    "    fpd.write('Trans regions not included: \\t{0}\\n'\n",
    "              .format(len(loadzones[~loadzones['trans-region']\n",
    "                                    .isin(join['trans-region'].unique())])))\n",
    "    fpd.write('Total points:\\t{0}\\n'.format(len(df)))\n",
    "    fpd.write('Points inside:\\t{0}\\n'.format(len(join)))\n",
    "    fpd.write('Points outside:\\t{0}\\n'.format(len(df) - len(join)))\n",
    "    fpd.write('Trans_in\\tTrans_out\\n')\n",
    "    for values in zip_longest(*[load_zones_in, load_zones_out]):\n",
    "        fpd.write('{0}\\t{1}\\n'.format(values[0],values[1]))"
   ]
  },
  {
   "cell_type": "code",
   "execution_count": null,
   "metadata": {},
   "outputs": [],
   "source": [
    "no_1 = gpd.sjoin(df, loadzones, op='within')"
   ]
  },
  {
   "cell_type": "code",
   "execution_count": null,
   "metadata": {},
   "outputs": [],
   "source": [
    "grouped = no_1.groupby(['trans-region'])['ID'].count()"
   ]
  },
  {
   "cell_type": "code",
   "execution_count": null,
   "metadata": {},
   "outputs": [],
   "source": [
    "grouped"
   ]
  }
 ],
 "metadata": {
  "kernelspec": {
   "display_name": "Python 3",
   "language": "python",
   "name": "python3"
  },
  "language_info": {
   "codemirror_mode": {
    "name": "ipython",
    "version": 3
   },
   "file_extension": ".py",
   "mimetype": "text/x-python",
   "name": "python",
   "nbconvert_exporter": "python",
   "pygments_lexer": "ipython3",
   "version": "3.6.5"
  }
 },
 "nbformat": 4,
 "nbformat_minor": 2
}
