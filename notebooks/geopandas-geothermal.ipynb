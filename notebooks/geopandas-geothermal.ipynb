{
 "cells": [
  {
   "cell_type": "code",
   "execution_count": null,
   "metadata": {},
   "outputs": [],
   "source": [
    "import geopandas as gpd\n",
    "import matplotlib.pyplot as plt\n",
    "plt.style.use('seaborn-notebook')\n",
    "%matplotlib notebook"
   ]
  },
  {
   "cell_type": "code",
   "execution_count": null,
   "metadata": {},
   "outputs": [],
   "source": [
    "name = 'Esc3'\n",
    "df = gpd.read_file('../data/interim/shapes/AP_Geotermica_' + name + '.shp')\n",
    "df = df[df.geometry.notnull()].to_crs({'init': 'epsg:4326'}) \n",
    "print (len(df))"
   ]
  },
  {
   "cell_type": "code",
   "execution_count": null,
   "metadata": {},
   "outputs": [],
   "source": [
    "states = gpd.read_file('../data/interim/shapes/mex-states.shp')\n",
    "# Reproject the file\n",
    "states = states.to_crs({'init': 'epsg:4326'}) "
   ]
  },
  {
   "cell_type": "code",
   "execution_count": null,
   "metadata": {},
   "outputs": [],
   "source": [
    "import json, os\n",
    "with open(os.path.join('../data/interim/', 'trans-regions.json'), 'r') as fp:\n",
    "    trans_regions = json.load(fp)"
   ]
  },
  {
   "cell_type": "code",
   "execution_count": null,
   "metadata": {},
   "outputs": [],
   "source": [
    "loadzones = gpd.read_file('../data/interim/shapes/Mask_T.shp')\n",
    "loadzones = loadzones.to_crs({'init': 'epsg:4326'}) \n",
    "loadzones['trans-region'] = loadzones['ID'].astype(int).map('{0:02}'.format).map(trans_regions)"
   ]
  },
  {
   "cell_type": "code",
   "execution_count": null,
   "metadata": {},
   "outputs": [],
   "source": [
    "loadzones.crs"
   ]
  },
  {
   "cell_type": "code",
   "execution_count": null,
   "metadata": {},
   "outputs": [],
   "source": [
    "#loadzones.to_file(\"test.geojson\", driver='GeoJSON')"
   ]
  },
  {
   "cell_type": "code",
   "execution_count": null,
   "metadata": {
    "scrolled": false
   },
   "outputs": [],
   "source": [
    "base = states.plot(color='white', edgecolor='black')\n",
    "join = gpd.sjoin(df, loadzones, op='within')\n",
    "#join = gpd.overlay(loadzones, df, how='intersection')\n",
    "loadzones.plot(ax=base,color='white', edgecolor='black', label='Loadzones')\n",
    "df.plot(color='red', ax=base, label='Outside', markersize=5)\n",
    "#join.plot(ax=base, color='green', legend=True)\n",
    "join.plot(ax=base, color='green', label='Inside', markersize=5)\n",
    "plt.title(name)\n",
    "plt.xlabel('lng')\n",
    "plt.ylabel('lat')\n",
    "plt.legend();\n",
    "#plt.savefig(name + '.png', dpi=300)"
   ]
  },
  {
   "cell_type": "code",
   "execution_count": null,
   "metadata": {},
   "outputs": [],
   "source": [
    "from itertools import zip_longest\n",
    "\n",
    "#join = gpd.sjoin(df, loadzones, op='within')\n",
    "load_zones_out = loadzones[~loadzones['trans-region']\n",
    "                          .isin(join['trans-region'].unique())]['trans-region']\n",
    "load_zones_in = join.groupby('trans-region')['geometry'].count().index.values\n",
    "#join = gpd.overlay(loadzones, df, how='intersection')\n",
    "with open(name + '.txt', 'w') as fpd:\n",
    "    fpd.write('Trans regions included:\\t{0}\\n'.format(len(join['trans-region'].unique())))\n",
    "    fpd.write('Trans regions not included: \\t{0}\\n'\n",
    "              .format(len(loadzones[~loadzones['trans-region']\n",
    "                                    .isin(join['trans-region'].unique())])))\n",
    "    fpd.write('Total points:\\t{0}\\n'.format(len(df)))\n",
    "    fpd.write('Points inside:\\t{0}\\n'.format(len(join)))\n",
    "    fpd.write('Points outside:\\t{0}\\n'.format(len(df) - len(join)))\n",
    "    fpd.write('Trans_in\\tTrans_out\\n')\n",
    "    for values in zip_longest(*[load_zones_in, load_zones_out]):\n",
    "        fpd.write('{0}\\t{1}\\n'.format(values[0],values[1]))"
   ]
  },
  {
   "cell_type": "code",
   "execution_count": null,
   "metadata": {},
   "outputs": [],
   "source": [
    "no_1 = gpd.sjoin(df, loadzones, op='within')"
   ]
  },
  {
   "cell_type": "code",
   "execution_count": null,
   "metadata": {},
   "outputs": [],
   "source": [
    "grouped = no_1.groupby(['trans-region'])['ID'].count()"
   ]
  },
  {
   "cell_type": "code",
   "execution_count": null,
   "metadata": {},
   "outputs": [],
   "source": [
    "grouped"
   ]
  }
 ],
 "metadata": {
  "kernelspec": {
   "display_name": "Python 3",
   "language": "python",
   "name": "python3"
  },
  "language_info": {
   "codemirror_mode": {
    "name": "ipython",
    "version": 3
   },
   "file_extension": ".py",
   "mimetype": "text/x-python",
   "name": "python",
   "nbconvert_exporter": "python",
   "pygments_lexer": "ipython3",
   "version": "3.6.4"
  }
 },
 "nbformat": 4,
 "nbformat_minor": 2
}
