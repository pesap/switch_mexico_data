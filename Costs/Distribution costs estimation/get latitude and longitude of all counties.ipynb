{
 "cells": [
  {
   "cell_type": "code",
   "execution_count": 16,
   "metadata": {
    "collapsed": false
   },
   "outputs": [],
   "source": [
    "import pandas as pd\n",
    "import numpy as np\n",
    "import geocoder\n",
    "df1=pd.read_csv(\"tables/Counties.csv\",skiprows=5,usecols=[2,3])\n",
    "df1=df1.dropna()\n",
    "#droping the \"Otros municipios\" county listed in INEGI's list.\n",
    "df1=df1.drop(198)"
   ]
  },
  {
   "cell_type": "code",
   "execution_count": null,
   "metadata": {
    "collapsed": true
   },
   "outputs": [],
   "source": [
    "for index,rows in df1.iterrows():\n",
    "    print index\n",
    "    loc=\"{0}, {1}\".format(str(rows['County']),str(rows['State']))\n",
    "    g=geocoder.google(loc)\n",
    "    df1.loc[index,'lat']=g.lat\n",
    "    df1.loc[index,'lon']=g.lng"
   ]
  },
  {
   "cell_type": "code",
   "execution_count": 18,
   "metadata": {
    "collapsed": false
   },
   "outputs": [],
   "source": [
    "df1.to_csv(\"tables/CountiesCoordinates.csv\",index=False)"
   ]
  },
  {
   "cell_type": "code",
   "execution_count": 20,
   "metadata": {
    "collapsed": false
   },
   "outputs": [
    {
     "data": {
      "text/plain": [
       "State               Chiapas\n",
       "County    Santiago el Pinar\n",
       "lat                 16.9401\n",
       "lon                -92.7145\n",
       "Name: 197, dtype: object"
      ]
     },
     "execution_count": 20,
     "metadata": {},
     "output_type": "execute_result"
    }
   ],
   "source": []
  },
  {
   "cell_type": "code",
   "execution_count": null,
   "metadata": {
    "collapsed": true
   },
   "outputs": [],
   "source": [
    "df2"
   ]
  }
 ],
 "metadata": {
  "hide_input": false,
  "kernelspec": {
   "display_name": "Python [conda root]",
   "language": "python",
   "name": "conda-root-py"
  },
  "language_info": {
   "codemirror_mode": {
    "name": "ipython",
    "version": 2
   },
   "file_extension": ".py",
   "mimetype": "text/x-python",
   "name": "python",
   "nbconvert_exporter": "python",
   "pygments_lexer": "ipython2",
   "version": "2.7.12"
  }
 },
 "nbformat": 4,
 "nbformat_minor": 1
}
