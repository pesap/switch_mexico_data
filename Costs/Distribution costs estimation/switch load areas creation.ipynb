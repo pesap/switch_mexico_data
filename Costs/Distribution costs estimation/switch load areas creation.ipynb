{
 "cells": [
  {
   "cell_type": "code",
   "execution_count": 1,
   "metadata": {
    "collapsed": false
   },
   "outputs": [],
   "source": [
    "import pandas as pd\n",
    "import numpy as np\n",
    "df1=pd.read_csv('tables/CategorizedCounties.csv',index_col=0,header=0,usecols=[0,9])\n",
    "df2=pd.read_csv('tables/BalancingAreas.csv',index_col=0,header=0)\n",
    "df3=pd.read_csv('../../Main Tabs/csv/lz_peak_loads_mid.csv',header=0,index_col=0)\n",
    "df2=df2.drop('00-autoabasto_local',axis=0)"
   ]
  },
  {
   "cell_type": "code",
   "execution_count": 2,
   "metadata": {
    "collapsed": false,
    "scrolled": true
   },
   "outputs": [
    {
     "data": {
      "text/plain": [
       "\"Now we must assign a distribution cost to each load zone\\nas a first aproach, we will asign the distribution cost of each load area\\nto the distribution cost of the county where the load area is located \\n(for example, the distribution cost of '20-tamazunchale' \\nis the distribution cost of the tamazunchale county).\\nThis is not representative as a load area distributes electricity to \\nmuch more counties that the county that gives name to it.\""
      ]
     },
     "execution_count": 2,
     "metadata": {},
     "output_type": "execute_result"
    }
   ],
   "source": [
    "df=pd.DataFrame(index=df2.index,columns=['cost_multipliers','existing_local_td',\"local_td_annual_cost_per_mw\"])\n",
    "df['cost_multipliers']=1\n",
    "\"\"\"we calculate the existing local td as the peak demand \n",
    "of that load area multiplied by a factor that compensates \n",
    "ditribution loses. \n",
    "This factor contemplates that 15% of the energy generated is lost \n",
    "during the transmission and distribution.\"\"\"\n",
    "for k in df.index.tolist():\n",
    "    df.loc[k,'existing_local_td']=df3.loc[k,\"peak_demand_mw\"].iloc[0]*100/85\n",
    "\"\"\"Now we must assign a distribution cost to each load zone\n",
    "as a first aproach, we will asign the distribution cost of each load area\n",
    "to the distribution cost of the county where the load area is located \n",
    "(for example, the distribution cost of '20-tamazunchale' \n",
    "is the distribution cost of the tamazunchale county).\n",
    "This is not representative as a load area distributes electricity to \n",
    "much more counties that the county that gives name to it.\"\"\"\n",
    "    "
   ]
  },
  {
   "cell_type": "code",
   "execution_count": 63,
   "metadata": {
    "collapsed": false
   },
   "outputs": [
    {
     "data": {
      "text/plain": [
       "109.99711840000002"
      ]
     },
     "execution_count": 63,
     "metadata": {},
     "output_type": "execute_result"
    }
   ],
   "source": [
    "df1.loc[\"01-hermosillo\"[3:],\"distributioncost2 (millions of mxn)\"]"
   ]
  },
  {
   "cell_type": "code",
   "execution_count": null,
   "metadata": {
    "collapsed": true
   },
   "outputs": [],
   "source": []
  },
  {
   "cell_type": "code",
   "execution_count": null,
   "metadata": {
    "collapsed": true
   },
   "outputs": [],
   "source": []
  },
  {
   "cell_type": "code",
   "execution_count": 3,
   "metadata": {
    "collapsed": false
   },
   "outputs": [],
   "source": [
    "for k in  df.index.tolist():\n",
    "    try: df.loc[k,'local_td_annual_cost_per_mw']=df1.loc[k[3:],\"distributioncost2 (millions of mxn)\"]\n",
    "    except: pass\n",
    "#manual correction for load zones whose name does not match any county\n",
    "df.loc['03-obregon','local_td_annual_cost_per_mw']=df1.loc['cajeme',\"distributioncost2 (millions of mxn)\"]\n",
    "df.loc['04-los_mochis','local_td_annual_cost_per_mw']=df1.loc['ahome',\"distributioncost2 (millions of mxn)\"]\n",
    "df.loc['07-juarez','local_td_annual_cost_per_mw']=df1.iloc[235,0]\n",
    "df.loc['08-moctezuma','local_td_annual_cost_per_mw']=df1.iloc[1926,0]\n",
    "df.loc['11-laguna','local_td_annual_cost_per_mw']=df1.loc['durango',\"distributioncost2 (millions of mxn)\"]\n",
    "df.loc['12-rio_escondido','local_td_annual_cost_per_mw']=df1.loc['piedras_negras',\"distributioncost2 (millions of mxn)\"]\n",
    "df.loc['15-matamoros','local_td_annual_cost_per_mw']=df1.iloc[1999,0]\n",
    "df.loc['18-valles','local_td_annual_cost_per_mw']=df1.iloc[1825,0]\n",
    "df.loc['19-huasteca','local_td_annual_cost_per_mw']=df1.iloc[2006,0]\n",
    "df.loc['29-lazaro_cardenas','local_td_annual_cost_per_mw']=df1.iloc[833,0]\n",
    "df.loc['31-central','local_td_annual_cost_per_mw']=df1.loc['coyoacan',\"distributioncost2 (millions of mxn)\"]\n",
    "df.loc['32-poza_rica','local_td_annual_cost_per_mw']=df1.loc['poza_rica_de_hidalgo',\"distributioncost2 (millions of mxn)\"]\n",
    "df.loc['35-acapulco','local_td_annual_cost_per_mw']=df1.loc['acapulco_de_juarez',\"distributioncost2 (millions of mxn)\"]\n",
    "df.loc['36-temascal','local_td_annual_cost_per_mw']=df1.loc['oaxaca_de_juarez',\"distributioncost2 (millions of mxn)\"]\n",
    "df.loc['39-grijalva','local_td_annual_cost_per_mw']=df1.loc['tuxtla_gutierrez',\"distributioncost2 (millions of mxn)\"]\n",
    "df.loc['43-cancun','local_td_annual_cost_per_mw']=df1.iloc[1808,0]\n",
    "df.loc['44-chetumal','local_td_annual_cost_per_mw']=df1.loc['othon_p._blanco',\"distributioncost2 (millions of mxn)\"]\n",
    "df.loc['50-villa_constitucion','local_td_annual_cost_per_mw']=df1.loc['comondu',\"distributioncost2 (millions of mxn)\"]\n",
    "df.loc['51-la_paz','local_td_annual_cost_per_mw']=df1.iloc[18,0]\n",
    "\n",
    "\n"
   ]
  },
  {
   "cell_type": "code",
   "execution_count": 4,
   "metadata": {
    "collapsed": true
   },
   "outputs": [],
   "source": [
    "for k in  df.index.tolist():\n",
    "    df.loc[k,'local_td_annual_cost_per_mw']=df.loc[k,'local_td_annual_cost_per_mw']*64820/df.loc[k,'existing_local_td']"
   ]
  },
  {
   "cell_type": "code",
   "execution_count": 6,
   "metadata": {
    "collapsed": false
   },
   "outputs": [],
   "source": [
    "df.to_csv('../../Main Tabs/csv/load_zones.csv')\n",
    "df.to_csv('../../Main Tabs/load_zones.tab',sep=\"\\t\")"
   ]
  },
  {
   "cell_type": "code",
   "execution_count": null,
   "metadata": {
    "collapsed": false
   },
   "outputs": [],
   "source": []
  },
  {
   "cell_type": "code",
   "execution_count": null,
   "metadata": {
    "collapsed": true
   },
   "outputs": [],
   "source": []
  }
 ],
 "metadata": {
  "hide_input": false,
  "kernelspec": {
   "display_name": "Python [Root]",
   "language": "python",
   "name": "Python [Root]"
  },
  "language_info": {
   "codemirror_mode": {
    "name": "ipython",
    "version": 2
   },
   "file_extension": ".py",
   "mimetype": "text/x-python",
   "name": "python",
   "nbconvert_exporter": "python",
   "pygments_lexer": "ipython2",
   "version": "2.7.12"
  }
 },
 "nbformat": 4,
 "nbformat_minor": 0
}
