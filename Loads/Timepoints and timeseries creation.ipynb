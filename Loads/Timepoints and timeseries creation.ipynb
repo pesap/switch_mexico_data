{
 "cells": [
  {
   "cell_type": "code",
   "execution_count": 1,
   "metadata": {
    "collapsed": true
   },
   "outputs": [],
   "source": [
    "import pandas as pd\n",
    "import numpy as np\n",
    "def median(lis):\n",
    "    lis=np.sort(lis)\n",
    "    if len(lis)%2==0:\n",
    "        return lis[((len(lis))/2)-1]\n",
    "    else: return lis[(len(lis)-1)/2]\n",
    "def investment_period(y):\n",
    "    if y in range(2016,2021): return 2020\n",
    "    elif y in range(2021,2026): return 2025\n",
    "    else: return 2030\n",
    "df1=pd.read_csv(\"Medium scenario/OrganizedTables/HourlyLoadPerNode.csv\",index_col=range(4),dtype=np.float64)"
   ]
  },
  {
   "cell_type": "code",
   "execution_count": 2,
   "metadata": {
    "collapsed": false,
    "scrolled": true
   },
   "outputs": [],
   "source": [
    "df5=pd.DataFrame()\n",
    "for y in range(2016,2031):\n",
    "    for m in range(1,13):\n",
    "        #peak days timestamp creation\n",
    "        df2=df1.xs([y,m])\n",
    "        a=df2.max()\n",
    "        place=a.idxmax()\n",
    "        date=df2[place].idxmax()\n",
    "        df3=pd.DataFrame()\n",
    "        if date[1]%2==0:\n",
    "            for h in range(1,24,2):\n",
    "                df3.loc[(h-1)/2,'timestamp']=\"{0}{1}{2}{3}\".format(y,str(m).zfill(2),str(int(date[0])).zfill(2),str(h).zfill(2))\n",
    "        else: \n",
    "            for h in range(0,24,2):\n",
    "                df3.loc[h/2,'timestamp']=\"{0}{1}{2}{3}\".format(y,str(m).zfill(2),str(int(date[0])).zfill(2),str(h).zfill(2))\n",
    "        df3['timeseries']=\"{0}{1}P\".format(y,str(m).zfill(2))\n",
    "        #median days timestamp creation\n",
    "        df4=pd.DataFrame()\n",
    "        b=[]\n",
    "        for i in range(len(df2.values)):\n",
    "            b=b+[x for x in df2.values[i]]\n",
    "        d=df2[df2.isin([median(b)])].dropna(how='all').index.tolist()[0][0]\n",
    "        for h in range(12):\n",
    "            df4.loc[h+12,'timestamp']=\"{0}{1}{2}{3}\".format(y,str(m).zfill(2),str(int(d)).zfill(2),str(h*2).zfill(2))\n",
    "        df4['timeseries']=\"{0}{1}M\".format(y,str(m).zfill(2))\n",
    "        df5=df5.append(df3)\n",
    "        df5=df5.append(df4)\n",
    "df5=df5.reset_index(drop=True)\n",
    "df5.index.name=\"timepoint_id\""
   ]
  },
  {
   "cell_type": "code",
   "execution_count": 3,
   "metadata": {
    "collapsed": false
   },
   "outputs": [],
   "source": [
    "df5.to_csv(\"../Main Tabs/timepoints.tab\",sep=\"\\t\")\n",
    "df5.to_csv(\"../Main Tabs/csv/timepoints.csv\")"
   ]
  },
  {
   "cell_type": "code",
   "execution_count": 4,
   "metadata": {
    "collapsed": false,
    "scrolled": true
   },
   "outputs": [],
   "source": [
    "df6=pd.DataFrame(index=df5['timeseries'].unique())\n",
    "df6.index.name='TIMESERIES'\n",
    "for index,row in df6.iterrows():\n",
    "    df6.loc[index,'ts_period']=investment_period(int(index[:4]))\n",
    "    if index[-1]=='M': \n",
    "        #calculating scaling factor according to \"timescales.py\"\n",
    "        df6.loc[index,'ts_scale_to_period']= 1*24*(df1.xs([int(index[:4]),int(index[4:6]),1],level=[0,1,3]).shape[0]-1)\n",
    "    else: df6.loc[index,'ts_scale_to_period']= 1*24\n",
    "df6['ts_duration_of_tp']=2\n",
    "df6['ts_num_tps']=24\n",
    "df6['ts_period']=df6['ts_period'].astype('int64')"
   ]
  },
  {
   "cell_type": "code",
   "execution_count": 5,
   "metadata": {
    "collapsed": true
   },
   "outputs": [],
   "source": [
    "#rearreging columns and exporting table\n",
    "df6=df6[[0,2,3,1]]\n",
    "df6.to_csv(\"../Main Tabs/timeseries.tab\",sep=\"\\t\")\n",
    "df6.to_csv(\"../Main Tabs/csv/timeseries.csv\")"
   ]
  },
  {
   "cell_type": "code",
   "execution_count": null,
   "metadata": {
    "collapsed": false
   },
   "outputs": [],
   "source": []
  },
  {
   "cell_type": "code",
   "execution_count": null,
   "metadata": {
    "collapsed": true
   },
   "outputs": [],
   "source": []
  }
 ],
 "metadata": {
  "anaconda-cloud": {},
  "hide_input": false,
  "kernelspec": {
   "display_name": "Python [conda root]",
   "language": "python",
   "name": "conda-root-py"
  },
  "language_info": {
   "codemirror_mode": {
    "name": "ipython",
    "version": 2
   },
   "file_extension": ".py",
   "mimetype": "text/x-python",
   "name": "python",
   "nbconvert_exporter": "python",
   "pygments_lexer": "ipython2",
   "version": "2.7.12"
  }
 },
 "nbformat": 4,
 "nbformat_minor": 1
}
